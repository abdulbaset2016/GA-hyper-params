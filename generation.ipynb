{
  "nbformat": 4,
  "nbformat_minor": 0,
  "metadata": {
    "colab": {
      "name": "generation.ipynb",
      "provenance": [],
      "collapsed_sections": [],
      "authorship_tag": "ABX9TyMIdV2RNfZ5rUMsHzUYgAuI"
    },
    "kernelspec": {
      "name": "python3",
      "display_name": "Python 3"
    },
    "accelerator": "GPU"
  },
  "cells": [
    {
      "cell_type": "markdown",
      "metadata": {
        "id": "GHODXLc_c42T"
      },
      "source": [
        "# Organism"
      ]
    },
    {
      "cell_type": "code",
      "metadata": {
        "id": "xWW81w9kcufg"
      },
      "source": [
        "import tensorflow as tf\n",
        "from tensorflow import keras\n",
        "from tensorflow.keras import Input\n",
        "from tensorflow.keras.layers import Conv2D, BatchNormalization, MaxPool2D, ReLU, ELU, LeakyReLU, Flatten, Dense, AveragePooling2D\n",
        "\n",
        "import numpy as np\n",
        "np.random.seed(666)\n",
        "tf.random.set_seed(666)"
      ],
      "execution_count": 23,
      "outputs": []
    },
    {
      "cell_type": "code",
      "metadata": {
        "id": "BAACV8o5cxAb"
      },
      "source": [
        "options = {\n",
        "    'a_filter_size': [(3,3), (5,5), (7,7), (13,13)],\n",
        "    'a_include_BN': [True, False],\n",
        "    'a_output_channels': [32, 64, 128, 256],\n",
        "    'activation_type': [ReLU, ELU, LeakyReLU],\n",
        "    'b_filter_size': [(3,3), (5,5), (7,7), (13,13)],\n",
        "    'b_include_BN': [True, False],\n",
        "    'b_output_channels': [32, 64, 128, 256],\n",
        "    'include_pool': [True, False],\n",
        "    'pool_type': [MaxPool2D, AveragePooling2D]\n",
        "    }"
      ],
      "execution_count": 24,
      "outputs": []
    },
    {
      "cell_type": "code",
      "metadata": {
        "id": "NVFva6ygc0A1"
      },
      "source": [
        "class Organism:\n",
        "    def __init__(self, chromosome={}, phase=0):\n",
        "      self.phase = phase\n",
        "      self.chromosome = chromosome\n",
        "      self.build_model()\n",
        "    def build_model(self):\n",
        "      if self.phase == 0:\n",
        "        keras.backend.clear_session()\n",
        "        \n",
        "        inputs = Input(shape=(32,32,3))\n",
        "        x = Conv2D(filters=self.chromosome['a_output_channels'],\n",
        "                    kernel_size=self.chromosome['a_filter_size'],\n",
        "                    use_bias=self.chromosome['a_include_BN'])(inputs)\n",
        "        if self.chromosome['a_include_BN']:\n",
        "            x = BatchNormalization()(x)\n",
        "        x = self.chromosome['activation_type']()(x)\n",
        "        if self.chromosome['include_pool']:\n",
        "            x = self.chromosome['pool_type']()(x)\n",
        "\n",
        "        x = Conv2D(filters=self.chromosome['b_output_channels'],\n",
        "                    kernel_size=self.chromosome['b_filter_size'],\n",
        "                    use_bias=self.chromosome['b_include_BN'])(x)\n",
        "        if self.chromosome['b_include_BN']:\n",
        "            x = BatchNormalization()(x)\n",
        "        x = self.chromosome['activation_type']()(x)\n",
        "\n",
        "        x = Flatten()(x)\n",
        "        x = Dense(10, activation='softmax')(x)\n",
        "\n",
        "        self.model = tf.keras.Model(inputs=[inputs], outputs=[x])\n",
        "        self.model.compile(optimizer='adam',\n",
        "                            loss='categorical_crossentropy',\n",
        "                            metrics=['accuracy'])\n",
        "      else:\n",
        "        print('Phase under construction')\n",
        "    \n",
        "    def fitnessFunction(self, train_ds, test_ds):\n",
        "      self.model.fit(train_ds,\n",
        "                      epochs=5,\n",
        "                      verbose=1)\n",
        "      _, self.fitness = self.model.evaluate(test_ds, verbose=0)\n",
        "    \n",
        "    def crossover(self, partner):\n",
        "      child = Organism(chromosome={}, phase=0)\n",
        "      endpoint = np.random.randint(low=0, high=len(self.chromosome))\n",
        "      print(endpoint)\n",
        "      for idx, key in enumerate(self.chromosome):\n",
        "        if idx <= endpoint:\n",
        "          child.chromosome[key] = self.chromosome[key]\n",
        "        else:\n",
        "          child.chromosome[key] = partner.chromosome[key]\n",
        "      return child\n",
        "    \n",
        "    def mutation(self, mutationRate):\n",
        "      for idx, key in enumerate(self.chromosome):\n",
        "        if np.random.rand() <= mutationRate:\n",
        "          self.chromosome[key] = options[key][np.random.randint(len(options[key]))]"
      ],
      "execution_count": 25,
      "outputs": []
    },
    {
      "cell_type": "code",
      "metadata": {
        "id": "oZ_cQxJvo-Hx"
      },
      "source": [
        "org = Organism(chromosome=random_hyper(), phase=0)"
      ],
      "execution_count": 26,
      "outputs": []
    },
    {
      "cell_type": "code",
      "metadata": {
        "id": "aceCGdr7qJd1",
        "outputId": "c23e1a42-418d-4fd8-a5e7-0f4b7607acd7",
        "colab": {
          "base_uri": "https://localhost:8080/",
          "height": 531
        }
      },
      "source": [
        "org.model.summary()"
      ],
      "execution_count": 27,
      "outputs": [
        {
          "output_type": "stream",
          "text": [
            "Model: \"functional_1\"\n",
            "_________________________________________________________________\n",
            "Layer (type)                 Output Shape              Param #   \n",
            "=================================================================\n",
            "input_1 (InputLayer)         [(None, 32, 32, 3)]       0         \n",
            "_________________________________________________________________\n",
            "conv2d (Conv2D)              (None, 30, 30, 64)        1792      \n",
            "_________________________________________________________________\n",
            "batch_normalization (BatchNo (None, 30, 30, 64)        256       \n",
            "_________________________________________________________________\n",
            "leaky_re_lu (LeakyReLU)      (None, 30, 30, 64)        0         \n",
            "_________________________________________________________________\n",
            "max_pooling2d (MaxPooling2D) (None, 15, 15, 64)        0         \n",
            "_________________________________________________________________\n",
            "conv2d_1 (Conv2D)            (None, 9, 9, 64)          200768    \n",
            "_________________________________________________________________\n",
            "batch_normalization_1 (Batch (None, 9, 9, 64)          256       \n",
            "_________________________________________________________________\n",
            "leaky_re_lu_1 (LeakyReLU)    (None, 9, 9, 64)          0         \n",
            "_________________________________________________________________\n",
            "flatten (Flatten)            (None, 5184)              0         \n",
            "_________________________________________________________________\n",
            "dense (Dense)                (None, 10)                51850     \n",
            "=================================================================\n",
            "Total params: 254,922\n",
            "Trainable params: 254,666\n",
            "Non-trainable params: 256\n",
            "_________________________________________________________________\n"
          ],
          "name": "stdout"
        }
      ]
    },
    {
      "cell_type": "code",
      "metadata": {
        "id": "kJTZ9iKEqPmt",
        "outputId": "de14ca3d-448b-41d0-d255-1b2aa58eac8b",
        "colab": {
          "base_uri": "https://localhost:8080/",
          "height": 201
        }
      },
      "source": [
        "org.fitnessFunction(train_ds, test_ds)"
      ],
      "execution_count": 28,
      "outputs": [
        {
          "output_type": "stream",
          "text": [
            "Epoch 1/5\n",
            "196/196 [==============================] - 4s 18ms/step - loss: 1.4093 - accuracy: 0.5067\n",
            "Epoch 2/5\n",
            "196/196 [==============================] - 4s 18ms/step - loss: 1.0597 - accuracy: 0.6323\n",
            "Epoch 3/5\n",
            "196/196 [==============================] - 4s 18ms/step - loss: 0.9466 - accuracy: 0.6727\n",
            "Epoch 4/5\n",
            "196/196 [==============================] - 4s 18ms/step - loss: 0.8708 - accuracy: 0.7000\n",
            "Epoch 5/5\n",
            "196/196 [==============================] - 3s 18ms/step - loss: 0.8103 - accuracy: 0.7222\n"
          ],
          "name": "stdout"
        }
      ]
    },
    {
      "cell_type": "markdown",
      "metadata": {
        "id": "UEVFOsxlc8ef"
      },
      "source": [
        "# Generation"
      ]
    },
    {
      "cell_type": "code",
      "metadata": {
        "id": "8kH_weKXij00"
      },
      "source": [
        "# Load the training and testing set of CIFAR10\n",
        "(X_train, y_train), (X_test, y_test) = tf.keras.datasets.cifar10.load_data()\n",
        "\n",
        "X_train = X_train.astype('float32')\n",
        "X_train = X_train/255.\n",
        "\n",
        "X_test = X_test.astype('float32')\n",
        "X_test = X_test/255.\n",
        "\n",
        "y_train = tf.reshape(tf.one_hot(y_train, 10), shape=(-1, 10))\n",
        "y_test = tf.reshape(tf.one_hot(y_test, 10), shape=(-1, 10))"
      ],
      "execution_count": 29,
      "outputs": []
    },
    {
      "cell_type": "code",
      "metadata": {
        "id": "wCf80RYoioxy"
      },
      "source": [
        "# Create TensorFlow dataset\n",
        "BATCH_SIZE = 256\n",
        "AUTOTUNE = tf.data.experimental.AUTOTUNE\n",
        "\n",
        "train_ds = tf.data.Dataset.from_tensor_slices((X_train, y_train))\n",
        "train_ds = train_ds.shuffle(1024).cache().batch(BATCH_SIZE).prefetch(AUTOTUNE)\n",
        "\n",
        "test_ds = tf.data.Dataset.from_tensor_slices((X_test, y_test))\n",
        "test_ds = test_ds.cache().batch(BATCH_SIZE).prefetch(AUTOTUNE)"
      ],
      "execution_count": 30,
      "outputs": []
    },
    {
      "cell_type": "code",
      "metadata": {
        "id": "h0sAUTuhiKTa"
      },
      "source": [
        "def random_hyper():\n",
        "  return {\n",
        "    'a_filter_size': options['a_filter_size'][np.random.randint(len(options['a_filter_size']))],\n",
        "    'a_include_BN': options['a_include_BN'][np.random.randint(len(options['a_include_BN']))],\n",
        "    'a_output_channels': options['a_output_channels'][np.random.randint(len(options['a_output_channels']))],\n",
        "    'activation_type': options['activation_type'][np.random.randint(len(options['activation_type']))],\n",
        "    'b_filter_size': options['b_filter_size'][np.random.randint(len(options['b_filter_size']))],\n",
        "    'b_include_BN': options['b_include_BN'][np.random.randint(len(options['b_include_BN']))],\n",
        "    'b_output_channels': options['b_output_channels'][np.random.randint(len(options['b_output_channels']))],\n",
        "    'include_pool': options['include_pool'][np.random.randint(len(options['include_pool']))],\n",
        "    'pool_type': options['pool_type'][np.random.randint(len(options['pool_type']))]\n",
        "    }\n",
        "\n",
        "def softmax(x):\n",
        "  \"\"\"Compute softmax values for each sets of scores in x.\"\"\"\n",
        "  e_x = np.exp(x - np.max(x))\n",
        "  return e_x / e_x.sum()"
      ],
      "execution_count": 31,
      "outputs": []
    },
    {
      "cell_type": "code",
      "metadata": {
        "id": "cfa1Y5TNVYcY"
      },
      "source": [
        "class Generation:\n",
        "\tdef __init__(self, mutationRate, population_size):\n",
        "\t\tself.population_size = population_size\n",
        "\t\tself.population = []\n",
        "\t\tself.generation_number = 0\n",
        "\t\tself.finished = False\n",
        "\t\tself.mutationRate = mutationRate\n",
        "\n",
        "\t\t# creating the first population GENERATION 1\n",
        "\t\t# can be thought of as the setup function\n",
        "\t\tfor idx in range(self.population_size):\n",
        "\t\t\tself.population.append(Organism(random_hyper(), phase=0))\n",
        "\t\t# calculates the fitness of all the organisms\n",
        "\n",
        "\t\tself.calcFitness()\n",
        "\n",
        "\tdef calcFitness(self):\n",
        "\t\t# This function is used to calculate the fitness of all\n",
        "\t\t# the individuals of the population.\n",
        "\t\tfor individuals in self.population:\n",
        "\t\t\tindividuals.fitnessFunction(train_ds, test_ds)\n",
        "\t\n",
        "\t# genrate the children and place them in the previous generation\n",
        "\t# to make new generation\n",
        "\tdef generate(self):\n",
        "\t\tprobability = [ind.fitness for ind in self.population]\n",
        "\t\t# create children with pairs\n",
        "\t\tfor idx in range (self.population_size):\n",
        "\t\t\tparents = np.random.choice(population, size=(2,), replace=False, p=softmax(probability))\n",
        "\t\t\t\n",
        "\t\t\tA=parents[0]\n",
        "\t\t\tB=parents[1]\n",
        "\n",
        "\t\t\tchild=A.crossover(B)\n",
        "\t\t\tchild.fitnessFunction()\n",
        "\t\t\tchild.mutation(self.mutationRate)\n",
        "\t\t\tchild.fitnessFunction()\n",
        "\t\t\tself.population[idx]=child\n",
        "\t\tself.generation_number+=1\n",
        "\n",
        "\t# evaluates the whole generation's fitness\n",
        "\tdef evaluate(self):\n",
        "\t\tfitness = [ind.fitness for ind in self.population]\n",
        "\t\tmost_fit = max(fitness)\n",
        "\t\tprint('Generation: {}'.format(self.generation_number))\n",
        "\t\tprint('Best fitness: {:0.2f}'.format(most_fit))\n",
        "\t\tprint('Average fitness: {:0.2f}'.format(sum(fitness)/len(fitness)))\n",
        "\t\tif most_fit > 0.6 :\n",
        "\t\t\tself.finished=True\n",
        "\t\t\t"
      ],
      "execution_count": 32,
      "outputs": []
    },
    {
      "cell_type": "code",
      "metadata": {
        "id": "3BbVfUL3nZrh"
      },
      "source": [
        "population_size = 10\n",
        "mutationRate = 0.1\n",
        "pop = Generation(mutationRate, population_size)\n",
        "\n",
        "while not(pop.finished):\n",
        "\tpop.generate()\n",
        "\tpop.evaluate()"
      ],
      "execution_count": null,
      "outputs": []
    }
  ]
}