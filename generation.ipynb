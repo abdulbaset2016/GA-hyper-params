{
  "nbformat": 4,
  "nbformat_minor": 0,
  "metadata": {
    "colab": {
      "name": "generation.ipynb",
      "provenance": [],
      "collapsed_sections": [],
      "authorship_tag": "ABX9TyM++t6Wbnofmtm7vedxdBHf"
    },
    "kernelspec": {
      "name": "python3",
      "display_name": "Python 3"
    },
    "accelerator": "GPU"
  },
  "cells": [
    {
      "cell_type": "markdown",
      "metadata": {
        "id": "GHODXLc_c42T"
      },
      "source": [
        "# Organism"
      ]
    },
    {
      "cell_type": "code",
      "metadata": {
        "id": "xgV-DBoZTIU5",
        "outputId": "47a7875a-6db7-44c4-d686-4d8853e42c7d",
        "colab": {
          "base_uri": "https://localhost:8080/",
          "height": 384
        }
      },
      "source": [
        "! nvidia-smi"
      ],
      "execution_count": 4,
      "outputs": [
        {
          "output_type": "stream",
          "text": [
            "Tue Oct 13 14:10:49 2020       \n",
            "+-----------------------------------------------------------------------------+\n",
            "| NVIDIA-SMI 455.23.05    Driver Version: 418.67       CUDA Version: 10.1     |\n",
            "|-------------------------------+----------------------+----------------------+\n",
            "| GPU  Name        Persistence-M| Bus-Id        Disp.A | Volatile Uncorr. ECC |\n",
            "| Fan  Temp  Perf  Pwr:Usage/Cap|         Memory-Usage | GPU-Util  Compute M. |\n",
            "|                               |                      |               MIG M. |\n",
            "|===============================+======================+======================|\n",
            "|   0  Tesla P100-PCIE...  Off  | 00000000:00:04.0 Off |                    0 |\n",
            "| N/A   33C    P0    32W / 250W |    363MiB / 16280MiB |      0%      Default |\n",
            "|                               |                      |                 ERR! |\n",
            "+-------------------------------+----------------------+----------------------+\n",
            "                                                                               \n",
            "+-----------------------------------------------------------------------------+\n",
            "| Processes:                                                                  |\n",
            "|  GPU   GI   CI        PID   Type   Process name                  GPU Memory |\n",
            "|        ID   ID                                                   Usage      |\n",
            "|=============================================================================|\n",
            "|  No running processes found                                                 |\n",
            "+-----------------------------------------------------------------------------+\n"
          ],
          "name": "stdout"
        }
      ]
    },
    {
      "cell_type": "code",
      "metadata": {
        "id": "xWW81w9kcufg"
      },
      "source": [
        "import tensorflow as tf\n",
        "from tensorflow import keras\n",
        "from tensorflow.keras import Input\n",
        "from tensorflow.keras.layers import Conv2D, BatchNormalization, MaxPool2D, ReLU, ELU, LeakyReLU, Flatten, Dense, AveragePooling2D\n",
        "import pprint\n",
        "pp = pprint.PrettyPrinter(indent=4)\n",
        "\n",
        "import numpy as np\n",
        "np.random.seed(666)\n",
        "tf.random.set_seed(666)"
      ],
      "execution_count": 1,
      "outputs": []
    },
    {
      "cell_type": "code",
      "metadata": {
        "id": "2MvBbpHYQ3Ac"
      },
      "source": [
        "options = {\n",
        "    'a_filter_size': [(1,1), (3,3), (5,5), (7,7), (9,9)],\n",
        "    'a_include_BN': [True, False],\n",
        "    'a_output_channels': [8, 16, 32, 64, 128, 256, 512],\n",
        "    'activation_type': [ReLU, ELU, LeakyReLU],\n",
        "    'b_filter_size': [(1,1), (3,3), (5,5), (7,7), (9,9)],\n",
        "    'b_include_BN': [True, False],\n",
        "    'b_output_channels': [8, 16, 32, 64, 128, 256, 512],\n",
        "    'include_pool': [True, False],\n",
        "    'pool_type': [MaxPool2D, AveragePooling2D]\n",
        "    }"
      ],
      "execution_count": 2,
      "outputs": []
    },
    {
      "cell_type": "code",
      "metadata": {
        "id": "lw0d3iSc4h-W",
        "outputId": "a9a88626-a618-41a0-ac4f-60aedfc39baf",
        "colab": {
          "base_uri": "https://localhost:8080/",
          "height": 54
        }
      },
      "source": [
        "# Load the training and testing set of CIFAR10\n",
        "(X_train, y_train), (X_test, y_test) = tf.keras.datasets.cifar10.load_data()\n",
        "\n",
        "X_train = X_train.astype('float32')\n",
        "X_train = X_train/255.\n",
        "\n",
        "X_test = X_test.astype('float32')\n",
        "X_test = X_test/255.\n",
        "\n",
        "y_train = tf.reshape(tf.one_hot(y_train, 10), shape=(-1, 10))\n",
        "y_test = tf.reshape(tf.one_hot(y_test, 10), shape=(-1, 10))\n",
        "\n",
        "# Create TensorFlow dataset\n",
        "BATCH_SIZE = 1024\n",
        "AUTOTUNE = tf.data.experimental.AUTOTUNE\n",
        "\n",
        "train_ds = tf.data.Dataset.from_tensor_slices((X_train, y_train))\n",
        "train_ds = train_ds.shuffle(1024).cache().batch(BATCH_SIZE).prefetch(AUTOTUNE)\n",
        "\n",
        "test_ds = tf.data.Dataset.from_tensor_slices((X_test, y_test))\n",
        "test_ds = test_ds.cache().batch(BATCH_SIZE).prefetch(AUTOTUNE)"
      ],
      "execution_count": 3,
      "outputs": [
        {
          "output_type": "stream",
          "text": [
            "Downloading data from https://www.cs.toronto.edu/~kriz/cifar-10-python.tar.gz\n",
            "170500096/170498071 [==============================] - 4s 0us/step\n"
          ],
          "name": "stdout"
        }
      ]
    },
    {
      "cell_type": "code",
      "metadata": {
        "id": "NVFva6ygc0A1"
      },
      "source": [
        "class Organism:\n",
        "\n",
        "  def __init__(self, chromosome={}, phase=0):\n",
        "    self.phase = phase\n",
        "    self.chromosome = chromosome\n",
        "    if len(self.chromosome) != 0:\n",
        "      self.build_model()\n",
        "\n",
        "  def build_model(self):\n",
        "    if self.phase == 0:\n",
        "      keras.backend.clear_session()\n",
        "      inputs = Input(shape=(32,32,3))\n",
        "      x = Conv2D(filters=self.chromosome['a_output_channels'],\n",
        "                 kernel_size=self.chromosome['a_filter_size'],\n",
        "                 use_bias=self.chromosome['a_include_BN'])(inputs)\n",
        "      if self.chromosome['a_include_BN']:\n",
        "        x = BatchNormalization()(x)\n",
        "      x = self.chromosome['activation_type']()(x)\n",
        "      if self.chromosome['include_pool']:\n",
        "        x = self.chromosome['pool_type']()(x)\n",
        "\n",
        "      x = Conv2D(filters=self.chromosome['b_output_channels'],\n",
        "                 kernel_size=self.chromosome['b_filter_size'],\n",
        "                 use_bias=self.chromosome['b_include_BN'])(x)\n",
        "      if self.chromosome['b_include_BN']:\n",
        "        x = BatchNormalization()(x)\n",
        "      x = self.chromosome['activation_type']()(x)\n",
        "\n",
        "      x = Flatten()(x)\n",
        "      x = Dense(10, activation='softmax')(x)\n",
        "\n",
        "      self.model = tf.keras.Model(inputs=[inputs], outputs=[x])\n",
        "      self.model.compile(optimizer='adam',\n",
        "                         loss='categorical_crossentropy',\n",
        "                         metrics=['accuracy'])\n",
        "    else:\n",
        "      print('Phase under construction')\n",
        "      \n",
        "  def fitnessFunction(self, train_ds, test_ds):\n",
        "    self.model.fit(train_ds,\n",
        "                   epochs=5,\n",
        "                   verbose=1)\n",
        "    _, self.fitness = self.model.evaluate(test_ds, verbose=0)\n",
        "  \n",
        "  def crossover(self, partner):\n",
        "    child = Organism(chromosome={}, phase=0)\n",
        "    endpoint = np.random.randint(low=0, high=len(self.chromosome))\n",
        "    print(endpoint)\n",
        "    for idx, key in enumerate(self.chromosome):\n",
        "      if idx <= endpoint:\n",
        "        child.chromosome[key] = self.chromosome[key]\n",
        "      else:\n",
        "        child.chromosome[key] = partner.chromosome[key]\n",
        "    child.build_model()\n",
        "    return child\n",
        "  \n",
        "  def mutation(self, mutationRate):\n",
        "    for idx, key in enumerate(self.chromosome):\n",
        "      if np.random.rand() <= mutationRate:\n",
        "        self.chromosome[key] = options[key][np.random.randint(len(options[key]))]\n",
        "  \n",
        "  def show(self):\n",
        "    pp.pprint(self.chromosome)"
      ],
      "execution_count": 5,
      "outputs": []
    },
    {
      "cell_type": "markdown",
      "metadata": {
        "id": "UEVFOsxlc8ef"
      },
      "source": [
        "# Generation"
      ]
    },
    {
      "cell_type": "code",
      "metadata": {
        "id": "h0sAUTuhiKTa"
      },
      "source": [
        "def random_hyper():\n",
        "  return {\n",
        "    'a_filter_size': options['a_filter_size'][np.random.randint(len(options['a_filter_size']))],\n",
        "    'a_include_BN': options['a_include_BN'][np.random.randint(len(options['a_include_BN']))],\n",
        "    'a_output_channels': options['a_output_channels'][np.random.randint(len(options['a_output_channels']))],\n",
        "    'activation_type': options['activation_type'][np.random.randint(len(options['activation_type']))],\n",
        "    'b_filter_size': options['b_filter_size'][np.random.randint(len(options['b_filter_size']))],\n",
        "    'b_include_BN': options['b_include_BN'][np.random.randint(len(options['b_include_BN']))],\n",
        "    'b_output_channels': options['b_output_channels'][np.random.randint(len(options['b_output_channels']))],\n",
        "    'include_pool': options['include_pool'][np.random.randint(len(options['include_pool']))],\n",
        "    'pool_type': options['pool_type'][np.random.randint(len(options['pool_type']))]\n",
        "    }\n",
        "\n",
        "def softmax(x):\n",
        "  e_x = np.exp(x - np.max(x))\n",
        "  return e_x / e_x.sum()"
      ],
      "execution_count": 6,
      "outputs": []
    },
    {
      "cell_type": "code",
      "metadata": {
        "id": "cfa1Y5TNVYcY"
      },
      "source": [
        "class Generation:\n",
        "\t\n",
        "\tdef __init__(self, mutationRate, population_size):\n",
        "\t\tself.population_size = population_size\n",
        "\t\tself.population = []\n",
        "\t\tself.generation_number = 0\n",
        "\t\tself.finished = False\n",
        "\t\tself.mutationRate = mutationRate\n",
        "\n",
        "\t\t# creating the first population GENERATION 1\n",
        "\t\t# can be thought of as the setup function\n",
        "\t\tfor idx in range(self.population_size):\n",
        "\t\t\tself.population.append(Organism(random_hyper(), phase=0))\n",
        "\t\t# calculates the fitness of all the organisms\n",
        "\n",
        "\t\tself.calcFitness()\n",
        "\n",
        "\tdef calcFitness(self):\n",
        "\t\t# This function is used to calculate the fitness of all\n",
        "\t\t# the individuals of the population.\n",
        "\t\tfor individuals in self.population:\n",
        "\t\t\tindividuals.fitnessFunction(train_ds, test_ds)\n",
        "\t\n",
        "\t# genrate the children and place them in the previous generation\n",
        "\t# to make new generation\n",
        "\tdef generate(self):\n",
        "\t\tfitness = [ind.fitness for ind in self.population]\n",
        "\t\tsorted_index = np.argsort(fitness).tolist()\n",
        "\n",
        "\t\ttemp_population = self.population.copy()\n",
        "\t\t# create children with pairs\n",
        "\t\tfor idx in range (self.population_size):\n",
        "\t\t\tif idx < self.population_size//2:\n",
        "\t\t\t\tself.population[idx] = temp_population[sorted_index[self.population_size-idx-1]]\n",
        "\t\t\telse:\n",
        "\t\t\t\tparents = np.random.choice(temp_population, size=(2,), replace=False, p=softmax(fitness))\n",
        "\t\t\t\tA=parents[0]\n",
        "\t\t\t\tB=parents[1]\n",
        "\t\t\t\tchild=A.crossover(B)\n",
        "\t\t\t\tchild.mutation(self.mutationRate)\n",
        "\t\t\t\tchild.fitnessFunction(train_ds, test_ds)\n",
        "\t\t\t\tself.population[idx]=child\n",
        "\t\tself.generation_number+=1\n",
        "\n",
        "\t# evaluates the whole generation's fitness\n",
        "\tdef evaluate(self):\n",
        "\t\tfitness = [ind.fitness for ind in self.population]\n",
        "\t\tmost_fit = max(fitness)\n",
        "\t\tprint('Generation: {}'.format(self.generation_number))\n",
        "\t\tprint('Best fitness: {:0.2f}'.format(most_fit))\n",
        "\t\tprint('Average fitness: {:0.2f}'.format(sum(fitness)/len(fitness)))\n",
        "\t\tif most_fit > 0.6 :\n",
        "\t\t\tself.finished=True\n",
        "\t\t\tindices = [index for index, value in enumerate(fitness) if value == most_fit]\n",
        "\t\t\tfor index in indices:\n",
        "\t\t\t\tself.population[index].show()"
      ],
      "execution_count": 12,
      "outputs": []
    },
    {
      "cell_type": "code",
      "metadata": {
        "id": "3BbVfUL3nZrh",
        "outputId": "350731dd-6451-4ca1-9558-b91af933595e",
        "colab": {
          "base_uri": "https://localhost:8080/",
          "height": 1000
        }
      },
      "source": [
        "population_size = 10\n",
        "mutationRate = 0.1\n",
        "pop = Generation(mutationRate, population_size)\n",
        "\n",
        "while not(pop.finished):\n",
        "\tpop.generate()\n",
        "\tpop.evaluate()"
      ],
      "execution_count": 13,
      "outputs": [
        {
          "output_type": "stream",
          "text": [
            "Epoch 1/5\n",
            "49/49 [==============================] - 1s 18ms/step - loss: 1.8504 - accuracy: 0.3462\n",
            "Epoch 2/5\n",
            "49/49 [==============================] - 1s 17ms/step - loss: 1.4596 - accuracy: 0.4805\n",
            "Epoch 3/5\n",
            "49/49 [==============================] - 1s 17ms/step - loss: 1.3226 - accuracy: 0.5293\n",
            "Epoch 4/5\n",
            "49/49 [==============================] - 1s 16ms/step - loss: 1.2457 - accuracy: 0.5577\n",
            "Epoch 5/5\n",
            "49/49 [==============================] - 1s 16ms/step - loss: 1.1943 - accuracy: 0.5769\n",
            "Epoch 1/5\n",
            "49/49 [==============================] - 1s 13ms/step - loss: 1.8822 - accuracy: 0.3270\n",
            "Epoch 2/5\n",
            "49/49 [==============================] - 1s 12ms/step - loss: 1.5492 - accuracy: 0.4411\n",
            "Epoch 3/5\n",
            "49/49 [==============================] - 1s 12ms/step - loss: 1.4728 - accuracy: 0.4699\n",
            "Epoch 4/5\n",
            "49/49 [==============================] - 1s 13ms/step - loss: 1.4241 - accuracy: 0.4876\n",
            "Epoch 5/5\n",
            "49/49 [==============================] - 1s 13ms/step - loss: 1.3865 - accuracy: 0.5018\n",
            "Epoch 1/5\n",
            "49/49 [==============================] - 2s 46ms/step - loss: 1.8384 - accuracy: 0.3621\n",
            "Epoch 2/5\n",
            "49/49 [==============================] - 2s 44ms/step - loss: 1.4562 - accuracy: 0.4847\n",
            "Epoch 3/5\n",
            "49/49 [==============================] - 2s 43ms/step - loss: 1.3478 - accuracy: 0.5234\n",
            "Epoch 4/5\n",
            "49/49 [==============================] - 2s 43ms/step - loss: 1.2636 - accuracy: 0.5565\n",
            "Epoch 5/5\n",
            "49/49 [==============================] - 2s 43ms/step - loss: 1.1946 - accuracy: 0.5803\n",
            "Epoch 1/5\n",
            "49/49 [==============================] - 5s 105ms/step - loss: 2.0024 - accuracy: 0.2753\n",
            "Epoch 2/5\n",
            "49/49 [==============================] - 5s 102ms/step - loss: 1.7926 - accuracy: 0.3729\n",
            "Epoch 3/5\n",
            "49/49 [==============================] - 5s 102ms/step - loss: 1.6653 - accuracy: 0.4170\n",
            "Epoch 4/5\n",
            "49/49 [==============================] - 5s 102ms/step - loss: 1.5826 - accuracy: 0.4468\n",
            "Epoch 5/5\n",
            "49/49 [==============================] - 5s 103ms/step - loss: 1.5247 - accuracy: 0.4656\n",
            "Epoch 1/5\n",
            "49/49 [==============================] - 2s 39ms/step - loss: 1.7588 - accuracy: 0.3820\n",
            "Epoch 2/5\n",
            "49/49 [==============================] - 2s 37ms/step - loss: 1.3929 - accuracy: 0.5095\n",
            "Epoch 3/5\n",
            "49/49 [==============================] - 2s 36ms/step - loss: 1.2652 - accuracy: 0.5583\n",
            "Epoch 4/5\n",
            "49/49 [==============================] - 2s 37ms/step - loss: 1.1600 - accuracy: 0.5965\n",
            "Epoch 5/5\n",
            "49/49 [==============================] - 2s 37ms/step - loss: 1.1146 - accuracy: 0.6134\n",
            "Epoch 1/5\n",
            " 2/49 [>.............................] - ETA: 3s - loss: 5.5374 - accuracy: 0.0967WARNING:tensorflow:Callbacks method `on_train_batch_end` is slow compared to the batch time (batch time: 0.0426s vs `on_train_batch_end` time: 0.1215s). Check your callbacks.\n"
          ],
          "name": "stdout"
        },
        {
          "output_type": "stream",
          "text": [
            "WARNING:tensorflow:Callbacks method `on_train_batch_end` is slow compared to the batch time (batch time: 0.0426s vs `on_train_batch_end` time: 0.1215s). Check your callbacks.\n"
          ],
          "name": "stderr"
        },
        {
          "output_type": "stream",
          "text": [
            "49/49 [==============================] - 9s 178ms/step - loss: 2.3147 - accuracy: 0.2452\n",
            "Epoch 2/5\n",
            "49/49 [==============================] - 8s 160ms/step - loss: 1.6394 - accuracy: 0.4153\n",
            "Epoch 3/5\n",
            "49/49 [==============================] - 8s 160ms/step - loss: 1.5061 - accuracy: 0.4696\n",
            "Epoch 4/5\n",
            "49/49 [==============================] - 8s 160ms/step - loss: 1.4204 - accuracy: 0.5023\n",
            "Epoch 5/5\n",
            "49/49 [==============================] - 8s 160ms/step - loss: 1.3589 - accuracy: 0.5252\n",
            "Epoch 1/5\n",
            "49/49 [==============================] - 1s 15ms/step - loss: 1.9421 - accuracy: 0.3175\n",
            "Epoch 2/5\n",
            "49/49 [==============================] - 1s 15ms/step - loss: 1.5783 - accuracy: 0.4489\n",
            "Epoch 3/5\n",
            "49/49 [==============================] - 1s 15ms/step - loss: 1.4431 - accuracy: 0.4960\n",
            "Epoch 4/5\n",
            "49/49 [==============================] - 1s 14ms/step - loss: 1.3631 - accuracy: 0.5227\n",
            "Epoch 5/5\n",
            "49/49 [==============================] - 1s 14ms/step - loss: 1.3158 - accuracy: 0.5389\n",
            "Epoch 1/5\n",
            "49/49 [==============================] - 3s 71ms/step - loss: 1.8802 - accuracy: 0.3469\n",
            "Epoch 2/5\n",
            "49/49 [==============================] - 3s 71ms/step - loss: 1.4462 - accuracy: 0.4896\n",
            "Epoch 3/5\n",
            "49/49 [==============================] - 3s 71ms/step - loss: 1.2821 - accuracy: 0.5467\n",
            "Epoch 4/5\n",
            "49/49 [==============================] - 3s 71ms/step - loss: 1.1926 - accuracy: 0.5823\n",
            "Epoch 5/5\n",
            "49/49 [==============================] - 3s 70ms/step - loss: 1.1195 - accuracy: 0.6090\n",
            "Epoch 1/5\n",
            "49/49 [==============================] - 1s 17ms/step - loss: 1.9974 - accuracy: 0.2883\n",
            "Epoch 2/5\n",
            "49/49 [==============================] - 1s 16ms/step - loss: 1.7849 - accuracy: 0.3821\n",
            "Epoch 3/5\n",
            "49/49 [==============================] - 1s 16ms/step - loss: 1.7102 - accuracy: 0.4102\n",
            "Epoch 4/5\n",
            "49/49 [==============================] - 1s 16ms/step - loss: 1.6532 - accuracy: 0.4295\n",
            "Epoch 5/5\n",
            "49/49 [==============================] - 1s 16ms/step - loss: 1.6069 - accuracy: 0.4455\n",
            "Epoch 1/5\n",
            "49/49 [==============================] - 1s 12ms/step - loss: 1.7794 - accuracy: 0.3752\n",
            "Epoch 2/5\n",
            "49/49 [==============================] - 1s 11ms/step - loss: 1.4785 - accuracy: 0.4825\n",
            "Epoch 3/5\n",
            "49/49 [==============================] - 1s 12ms/step - loss: 1.3585 - accuracy: 0.5239\n",
            "Epoch 4/5\n",
            "49/49 [==============================] - 1s 12ms/step - loss: 1.2817 - accuracy: 0.5514\n",
            "Epoch 5/5\n",
            "49/49 [==============================] - 1s 12ms/step - loss: 1.2279 - accuracy: 0.5720\n",
            "7\n",
            "Epoch 1/5\n",
            "49/49 [==============================] - 1s 16ms/step - loss: 1.9981 - accuracy: 0.2887\n",
            "Epoch 2/5\n",
            "49/49 [==============================] - 1s 16ms/step - loss: 1.7506 - accuracy: 0.3924\n",
            "Epoch 3/5\n",
            "49/49 [==============================] - 1s 16ms/step - loss: 1.6499 - accuracy: 0.4277\n",
            "Epoch 4/5\n",
            "49/49 [==============================] - 1s 16ms/step - loss: 1.5856 - accuracy: 0.4500\n",
            "Epoch 5/5\n",
            "49/49 [==============================] - 1s 16ms/step - loss: 1.5365 - accuracy: 0.4666\n",
            "6\n",
            "Epoch 1/5\n",
            "49/49 [==============================] - 4s 87ms/step - loss: 2.8416 - accuracy: 0.3186\n",
            "Epoch 2/5\n",
            "49/49 [==============================] - 4s 78ms/step - loss: 1.4147 - accuracy: 0.5061\n",
            "Epoch 3/5\n",
            "49/49 [==============================] - 4s 78ms/step - loss: 1.2474 - accuracy: 0.5640\n",
            "Epoch 4/5\n",
            "49/49 [==============================] - 4s 78ms/step - loss: 1.1526 - accuracy: 0.6023\n",
            "Epoch 5/5\n",
            "49/49 [==============================] - 4s 77ms/step - loss: 1.0686 - accuracy: 0.6332\n",
            "3\n",
            "Epoch 1/5\n",
            " 2/49 [>.............................] - ETA: 3s - loss: 3.4861 - accuracy: 0.1201WARNING:tensorflow:Callbacks method `on_train_batch_end` is slow compared to the batch time (batch time: 0.0317s vs `on_train_batch_end` time: 0.0861s). Check your callbacks.\n"
          ],
          "name": "stdout"
        },
        {
          "output_type": "stream",
          "text": [
            "WARNING:tensorflow:Callbacks method `on_train_batch_end` is slow compared to the batch time (batch time: 0.0317s vs `on_train_batch_end` time: 0.0861s). Check your callbacks.\n"
          ],
          "name": "stderr"
        },
        {
          "output_type": "stream",
          "text": [
            "49/49 [==============================] - 6s 132ms/step - loss: 2.0459 - accuracy: 0.2859\n",
            "Epoch 2/5\n",
            "49/49 [==============================] - 6s 118ms/step - loss: 1.5481 - accuracy: 0.4503\n",
            "Epoch 3/5\n",
            "49/49 [==============================] - 6s 118ms/step - loss: 1.3834 - accuracy: 0.5157\n",
            "Epoch 4/5\n",
            "49/49 [==============================] - 6s 118ms/step - loss: 1.2840 - accuracy: 0.5549\n",
            "Epoch 5/5\n",
            "49/49 [==============================] - 6s 118ms/step - loss: 1.2157 - accuracy: 0.5790\n",
            "6\n",
            "Epoch 1/5\n",
            "49/49 [==============================] - 1s 14ms/step - loss: 1.8709 - accuracy: 0.3370\n",
            "Epoch 2/5\n",
            "49/49 [==============================] - 1s 14ms/step - loss: 1.5167 - accuracy: 0.4677\n",
            "Epoch 3/5\n",
            "49/49 [==============================] - 1s 14ms/step - loss: 1.3950 - accuracy: 0.5126\n",
            "Epoch 4/5\n",
            "49/49 [==============================] - 1s 14ms/step - loss: 1.3334 - accuracy: 0.5343\n",
            "Epoch 5/5\n",
            "49/49 [==============================] - 1s 14ms/step - loss: 1.2953 - accuracy: 0.5489\n",
            "1\n",
            "Epoch 1/5\n",
            "49/49 [==============================] - 2s 48ms/step - loss: 1.9187 - accuracy: 0.3139\n",
            "Epoch 2/5\n",
            "49/49 [==============================] - 2s 44ms/step - loss: 1.6265 - accuracy: 0.4301\n",
            "Epoch 3/5\n",
            "49/49 [==============================] - 2s 44ms/step - loss: 1.5189 - accuracy: 0.4663\n",
            "Epoch 4/5\n",
            "49/49 [==============================] - 2s 44ms/step - loss: 1.4580 - accuracy: 0.4909\n",
            "Epoch 5/5\n",
            "49/49 [==============================] - 2s 44ms/step - loss: 1.4072 - accuracy: 0.5077\n",
            "Generation: 1\n",
            "Best fitness: 0.56\n",
            "Average fitness: 0.51\n",
            "5\n",
            "Epoch 1/5\n",
            " 2/49 [>.............................] - ETA: 3s - loss: 5.3112 - accuracy: 0.0923WARNING:tensorflow:Callbacks method `on_train_batch_end` is slow compared to the batch time (batch time: 0.0576s vs `on_train_batch_end` time: 0.0884s). Check your callbacks.\n"
          ],
          "name": "stdout"
        },
        {
          "output_type": "stream",
          "text": [
            "WARNING:tensorflow:Callbacks method `on_train_batch_end` is slow compared to the batch time (batch time: 0.0576s vs `on_train_batch_end` time: 0.0884s). Check your callbacks.\n"
          ],
          "name": "stderr"
        },
        {
          "output_type": "stream",
          "text": [
            "49/49 [==============================] - 7s 147ms/step - loss: 3.0678 - accuracy: 0.1952\n",
            "Epoch 2/5\n",
            "49/49 [==============================] - 7s 140ms/step - loss: 1.8107 - accuracy: 0.3622\n",
            "Epoch 3/5\n",
            "49/49 [==============================] - 7s 142ms/step - loss: 1.6704 - accuracy: 0.4180\n",
            "Epoch 4/5\n",
            "49/49 [==============================] - 7s 141ms/step - loss: 1.5718 - accuracy: 0.4511\n",
            "Epoch 5/5\n",
            "49/49 [==============================] - 7s 141ms/step - loss: 1.4853 - accuracy: 0.4780\n",
            "6\n",
            "Epoch 1/5\n",
            " 2/49 [>.............................] - ETA: 6s - loss: 3.3577 - accuracy: 0.1162WARNING:tensorflow:Callbacks method `on_train_batch_end` is slow compared to the batch time (batch time: 0.0396s vs `on_train_batch_end` time: 0.1212s). Check your callbacks.\n"
          ],
          "name": "stdout"
        },
        {
          "output_type": "stream",
          "text": [
            "WARNING:tensorflow:Callbacks method `on_train_batch_end` is slow compared to the batch time (batch time: 0.0396s vs `on_train_batch_end` time: 0.1212s). Check your callbacks.\n"
          ],
          "name": "stderr"
        },
        {
          "output_type": "stream",
          "text": [
            "49/49 [==============================] - 8s 159ms/step - loss: 2.1412 - accuracy: 0.2975\n",
            "Epoch 2/5\n",
            "49/49 [==============================] - 8s 160ms/step - loss: 1.5310 - accuracy: 0.4563\n",
            "Epoch 3/5\n",
            "49/49 [==============================] - 8s 160ms/step - loss: 1.4060 - accuracy: 0.5001\n",
            "Epoch 4/5\n",
            "49/49 [==============================] - 8s 160ms/step - loss: 1.3325 - accuracy: 0.5296\n",
            "Epoch 5/5\n",
            "49/49 [==============================] - 8s 160ms/step - loss: 1.2712 - accuracy: 0.5562\n",
            "3\n",
            "Epoch 1/5\n",
            "49/49 [==============================] - 1s 16ms/step - loss: 1.8999 - accuracy: 0.3283\n",
            "Epoch 2/5\n",
            "49/49 [==============================] - 1s 16ms/step - loss: 1.5223 - accuracy: 0.4735\n",
            "Epoch 3/5\n",
            "49/49 [==============================] - 1s 16ms/step - loss: 1.3888 - accuracy: 0.5217\n",
            "Epoch 4/5\n",
            "49/49 [==============================] - 1s 16ms/step - loss: 1.3045 - accuracy: 0.5507\n",
            "Epoch 5/5\n",
            "49/49 [==============================] - 1s 15ms/step - loss: 1.2390 - accuracy: 0.5738\n",
            "7\n",
            "Epoch 1/5\n",
            "49/49 [==============================] - 1s 15ms/step - loss: 2.0477 - accuracy: 0.2661\n",
            "Epoch 2/5\n",
            "49/49 [==============================] - 1s 15ms/step - loss: 1.8498 - accuracy: 0.3573\n",
            "Epoch 3/5\n",
            "49/49 [==============================] - 1s 15ms/step - loss: 1.7840 - accuracy: 0.3814\n",
            "Epoch 4/5\n",
            "49/49 [==============================] - 1s 15ms/step - loss: 1.7435 - accuracy: 0.3948\n",
            "Epoch 5/5\n",
            "49/49 [==============================] - 1s 15ms/step - loss: 1.7099 - accuracy: 0.4078\n",
            "7\n",
            "Epoch 1/5\n",
            "49/49 [==============================] - 1s 15ms/step - loss: 2.0558 - accuracy: 0.2652\n",
            "Epoch 2/5\n",
            "49/49 [==============================] - 1s 15ms/step - loss: 1.8521 - accuracy: 0.3570\n",
            "Epoch 3/5\n",
            "49/49 [==============================] - 1s 15ms/step - loss: 1.7681 - accuracy: 0.3874\n",
            "Epoch 4/5\n",
            "49/49 [==============================] - 1s 15ms/step - loss: 1.7153 - accuracy: 0.4049\n",
            "Epoch 5/5\n",
            "49/49 [==============================] - 1s 15ms/step - loss: 1.6770 - accuracy: 0.4177\n",
            "Generation: 2\n",
            "Best fitness: 0.56\n",
            "Average fitness: 0.51\n",
            "0\n",
            "Epoch 1/5\n",
            " 2/49 [>.............................] - ETA: 2s - loss: 10.1678 - accuracy: 0.1289WARNING:tensorflow:Callbacks method `on_train_batch_end` is slow compared to the batch time (batch time: 0.0375s vs `on_train_batch_end` time: 0.0579s). Check your callbacks.\n"
          ],
          "name": "stdout"
        },
        {
          "output_type": "stream",
          "text": [
            "WARNING:tensorflow:Callbacks method `on_train_batch_end` is slow compared to the batch time (batch time: 0.0375s vs `on_train_batch_end` time: 0.0579s). Check your callbacks.\n"
          ],
          "name": "stderr"
        },
        {
          "output_type": "stream",
          "text": [
            "49/49 [==============================] - 5s 104ms/step - loss: 3.1998 - accuracy: 0.1047\n",
            "Epoch 2/5\n",
            "49/49 [==============================] - 5s 94ms/step - loss: 2.3021 - accuracy: 0.0994\n",
            "Epoch 3/5\n",
            "49/49 [==============================] - 5s 94ms/step - loss: 2.3018 - accuracy: 0.1016\n",
            "Epoch 4/5\n",
            "49/49 [==============================] - 5s 94ms/step - loss: 2.3163 - accuracy: 0.1077\n",
            "Epoch 5/5\n",
            "49/49 [==============================] - 5s 95ms/step - loss: 2.3019 - accuracy: 0.1016\n",
            "8\n",
            "Epoch 1/5\n",
            " 2/49 [>.............................] - ETA: 4s - loss: 2.7605 - accuracy: 0.0947WARNING:tensorflow:Callbacks method `on_train_batch_end` is slow compared to the batch time (batch time: 0.0312s vs `on_train_batch_end` time: 0.0860s). Check your callbacks.\n"
          ],
          "name": "stdout"
        },
        {
          "output_type": "stream",
          "text": [
            "WARNING:tensorflow:Callbacks method `on_train_batch_end` is slow compared to the batch time (batch time: 0.0312s vs `on_train_batch_end` time: 0.0860s). Check your callbacks.\n"
          ],
          "name": "stderr"
        },
        {
          "output_type": "stream",
          "text": [
            "49/49 [==============================] - 6s 119ms/step - loss: 1.9459 - accuracy: 0.3133\n",
            "Epoch 2/5\n",
            "49/49 [==============================] - 6s 118ms/step - loss: 1.4761 - accuracy: 0.4738\n",
            "Epoch 3/5\n",
            "49/49 [==============================] - 6s 118ms/step - loss: 1.3166 - accuracy: 0.5389\n",
            "Epoch 4/5\n",
            "49/49 [==============================] - 6s 118ms/step - loss: 1.2097 - accuracy: 0.5791\n",
            "Epoch 5/5\n",
            "49/49 [==============================] - 6s 118ms/step - loss: 1.1287 - accuracy: 0.6084\n",
            "0\n",
            "Epoch 1/5\n",
            " 2/49 [>.............................] - ETA: 4s - loss: 3.6209 - accuracy: 0.0962WARNING:tensorflow:Callbacks method `on_train_batch_end` is slow compared to the batch time (batch time: 0.0326s vs `on_train_batch_end` time: 0.0858s). Check your callbacks.\n"
          ],
          "name": "stdout"
        },
        {
          "output_type": "stream",
          "text": [
            "WARNING:tensorflow:Callbacks method `on_train_batch_end` is slow compared to the batch time (batch time: 0.0326s vs `on_train_batch_end` time: 0.0858s). Check your callbacks.\n"
          ],
          "name": "stderr"
        },
        {
          "output_type": "stream",
          "text": [
            "49/49 [==============================] - 6s 118ms/step - loss: 2.0590 - accuracy: 0.2902\n",
            "Epoch 2/5\n",
            "49/49 [==============================] - 6s 118ms/step - loss: 1.5285 - accuracy: 0.4590\n",
            "Epoch 3/5\n",
            "49/49 [==============================] - 6s 118ms/step - loss: 1.3614 - accuracy: 0.5220\n",
            "Epoch 4/5\n",
            "49/49 [==============================] - 6s 118ms/step - loss: 1.2422 - accuracy: 0.5684\n",
            "Epoch 5/5\n",
            "49/49 [==============================] - 6s 118ms/step - loss: 1.1646 - accuracy: 0.5967\n",
            "5\n",
            "Epoch 1/5\n",
            "49/49 [==============================] - 1s 12ms/step - loss: 2.0432 - accuracy: 0.2533\n",
            "Epoch 2/5\n",
            "49/49 [==============================] - 1s 12ms/step - loss: 1.6885 - accuracy: 0.4106\n",
            "Epoch 3/5\n",
            "49/49 [==============================] - 1s 12ms/step - loss: 1.5474 - accuracy: 0.4530\n",
            "Epoch 4/5\n",
            "49/49 [==============================] - 1s 12ms/step - loss: 1.4885 - accuracy: 0.4750\n",
            "Epoch 5/5\n",
            "49/49 [==============================] - 1s 11ms/step - loss: 1.4535 - accuracy: 0.4850\n",
            "3\n",
            "Epoch 1/5\n",
            "49/49 [==============================] - 1s 12ms/step - loss: 1.8491 - accuracy: 0.3695\n",
            "Epoch 2/5\n",
            "49/49 [==============================] - 1s 12ms/step - loss: 1.4017 - accuracy: 0.5146\n",
            "Epoch 3/5\n",
            "49/49 [==============================] - 1s 12ms/step - loss: 1.2504 - accuracy: 0.5657\n",
            "Epoch 4/5\n",
            "49/49 [==============================] - 1s 13ms/step - loss: 1.1572 - accuracy: 0.5996\n",
            "Epoch 5/5\n",
            "49/49 [==============================] - 1s 12ms/step - loss: 1.0885 - accuracy: 0.6235\n",
            "Generation: 3\n",
            "Best fitness: 0.59\n",
            "Average fitness: 0.50\n",
            "5\n",
            "Epoch 1/5\n",
            "49/49 [==============================] - 7s 151ms/step - loss: 16.6592 - accuracy: 0.2635\n",
            "Epoch 2/5\n",
            "49/49 [==============================] - 7s 149ms/step - loss: 1.6346 - accuracy: 0.4406\n",
            "Epoch 3/5\n",
            "49/49 [==============================] - 7s 149ms/step - loss: 1.2816 - accuracy: 0.5561\n",
            "Epoch 4/5\n",
            "49/49 [==============================] - 7s 149ms/step - loss: 1.1228 - accuracy: 0.6148\n",
            "Epoch 5/5\n",
            "49/49 [==============================] - 7s 149ms/step - loss: 1.0002 - accuracy: 0.6591\n",
            "4\n",
            "Epoch 1/5\n",
            "49/49 [==============================] - 4s 75ms/step - loss: 2.0178 - accuracy: 0.2797\n",
            "Epoch 2/5\n",
            "49/49 [==============================] - 4s 73ms/step - loss: 1.5597 - accuracy: 0.4529\n",
            "Epoch 3/5\n",
            "49/49 [==============================] - 4s 72ms/step - loss: 1.4267 - accuracy: 0.5003\n",
            "Epoch 4/5\n",
            "49/49 [==============================] - 4s 72ms/step - loss: 1.3563 - accuracy: 0.5258\n",
            "Epoch 5/5\n",
            "49/49 [==============================] - 4s 72ms/step - loss: 1.2812 - accuracy: 0.5523\n",
            "4\n",
            "Epoch 1/5\n",
            " 2/49 [>.............................] - ETA: 5s - loss: 24.9865 - accuracy: 0.1104WARNING:tensorflow:Callbacks method `on_train_batch_end` is slow compared to the batch time (batch time: 0.0574s vs `on_train_batch_end` time: 0.1823s). Check your callbacks.\n"
          ],
          "name": "stdout"
        },
        {
          "output_type": "stream",
          "text": [
            "WARNING:tensorflow:Callbacks method `on_train_batch_end` is slow compared to the batch time (batch time: 0.0574s vs `on_train_batch_end` time: 0.1823s). Check your callbacks.\n"
          ],
          "name": "stderr"
        },
        {
          "output_type": "stream",
          "text": [
            "49/49 [==============================] - 12s 253ms/step - loss: 14.5933 - accuracy: 0.2645\n",
            "Epoch 2/5\n",
            "49/49 [==============================] - 12s 240ms/step - loss: 1.4753 - accuracy: 0.4869\n",
            "Epoch 3/5\n",
            "49/49 [==============================] - 12s 239ms/step - loss: 1.2011 - accuracy: 0.5831\n",
            "Epoch 4/5\n",
            "49/49 [==============================] - 12s 239ms/step - loss: 1.0493 - accuracy: 0.6366\n",
            "Epoch 5/5\n",
            "49/49 [==============================] - 12s 240ms/step - loss: 0.9155 - accuracy: 0.6883\n",
            "5\n",
            "Epoch 1/5\n",
            " 2/49 [>.............................] - ETA: 4s - loss: 2.5987 - accuracy: 0.1338WARNING:tensorflow:Callbacks method `on_train_batch_end` is slow compared to the batch time (batch time: 0.0310s vs `on_train_batch_end` time: 0.0861s). Check your callbacks.\n"
          ],
          "name": "stdout"
        },
        {
          "output_type": "stream",
          "text": [
            "WARNING:tensorflow:Callbacks method `on_train_batch_end` is slow compared to the batch time (batch time: 0.0310s vs `on_train_batch_end` time: 0.0861s). Check your callbacks.\n"
          ],
          "name": "stderr"
        },
        {
          "output_type": "stream",
          "text": [
            "49/49 [==============================] - 6s 118ms/step - loss: 1.8801 - accuracy: 0.3257\n",
            "Epoch 2/5\n",
            "49/49 [==============================] - 6s 118ms/step - loss: 1.4760 - accuracy: 0.4750\n",
            "Epoch 3/5\n",
            "49/49 [==============================] - 6s 118ms/step - loss: 1.3255 - accuracy: 0.5363\n",
            "Epoch 4/5\n",
            "49/49 [==============================] - 6s 118ms/step - loss: 1.2139 - accuracy: 0.5778\n",
            "Epoch 5/5\n",
            "49/49 [==============================] - 6s 118ms/step - loss: 1.1277 - accuracy: 0.6100\n",
            "5\n",
            "Epoch 1/5\n",
            "49/49 [==============================] - 1s 13ms/step - loss: 1.9763 - accuracy: 0.2857\n",
            "Epoch 2/5\n",
            "49/49 [==============================] - 1s 12ms/step - loss: 1.6995 - accuracy: 0.3956\n",
            "Epoch 3/5\n",
            "49/49 [==============================] - 1s 12ms/step - loss: 1.6202 - accuracy: 0.4249\n",
            "Epoch 4/5\n",
            "49/49 [==============================] - 1s 13ms/step - loss: 1.5587 - accuracy: 0.4478\n",
            "Epoch 5/5\n",
            "49/49 [==============================] - 1s 12ms/step - loss: 1.5182 - accuracy: 0.4631\n",
            "Generation: 4\n",
            "Best fitness: 0.59\n",
            "Average fitness: 0.52\n",
            "1\n",
            "Epoch 1/5\n",
            "49/49 [==============================] - 5s 107ms/step - loss: 2.0168 - accuracy: 0.3317\n",
            "Epoch 2/5\n",
            "49/49 [==============================] - 5s 101ms/step - loss: 1.3474 - accuracy: 0.5335\n",
            "Epoch 3/5\n",
            "49/49 [==============================] - 5s 102ms/step - loss: 1.1791 - accuracy: 0.5954\n",
            "Epoch 4/5\n",
            "49/49 [==============================] - 5s 102ms/step - loss: 1.0636 - accuracy: 0.6383\n",
            "Epoch 5/5\n",
            "49/49 [==============================] - 5s 101ms/step - loss: 0.9737 - accuracy: 0.6699\n",
            "6\n",
            "Epoch 1/5\n",
            "49/49 [==============================] - 1s 15ms/step - loss: 1.8915 - accuracy: 0.3334\n",
            "Epoch 2/5\n",
            "49/49 [==============================] - 1s 15ms/step - loss: 1.5643 - accuracy: 0.4580\n",
            "Epoch 3/5\n",
            "49/49 [==============================] - 1s 15ms/step - loss: 1.4361 - accuracy: 0.5026\n",
            "Epoch 4/5\n",
            "49/49 [==============================] - 1s 15ms/step - loss: 1.3385 - accuracy: 0.5350\n",
            "Epoch 5/5\n",
            "49/49 [==============================] - 1s 15ms/step - loss: 1.2613 - accuracy: 0.5629\n",
            "0\n",
            "Epoch 1/5\n",
            " 2/49 [>.............................] - ETA: 9s - loss: 33.3600 - accuracy: 0.1104WARNING:tensorflow:Callbacks method `on_train_batch_end` is slow compared to the batch time (batch time: 0.0606s vs `on_train_batch_end` time: 0.1814s). Check your callbacks.\n"
          ],
          "name": "stdout"
        },
        {
          "output_type": "stream",
          "text": [
            "WARNING:tensorflow:Callbacks method `on_train_batch_end` is slow compared to the batch time (batch time: 0.0606s vs `on_train_batch_end` time: 0.1814s). Check your callbacks.\n"
          ],
          "name": "stderr"
        },
        {
          "output_type": "stream",
          "text": [
            "49/49 [==============================] - 12s 240ms/step - loss: 15.7688 - accuracy: 0.2477\n",
            "Epoch 2/5\n",
            "49/49 [==============================] - 12s 240ms/step - loss: 1.4854 - accuracy: 0.4770\n",
            "Epoch 3/5\n",
            "49/49 [==============================] - 12s 240ms/step - loss: 1.2535 - accuracy: 0.5609\n",
            "Epoch 4/5\n",
            "49/49 [==============================] - 12s 240ms/step - loss: 1.1236 - accuracy: 0.6092\n",
            "Epoch 5/5\n",
            "49/49 [==============================] - 12s 239ms/step - loss: 1.0118 - accuracy: 0.6512\n",
            "0\n",
            "Epoch 1/5\n",
            " 2/49 [>.............................] - ETA: 4s - loss: 25.1501 - accuracy: 0.1084WARNING:tensorflow:Callbacks method `on_train_batch_end` is slow compared to the batch time (batch time: 0.0527s vs `on_train_batch_end` time: 0.1388s). Check your callbacks.\n"
          ],
          "name": "stdout"
        },
        {
          "output_type": "stream",
          "text": [
            "WARNING:tensorflow:Callbacks method `on_train_batch_end` is slow compared to the batch time (batch time: 0.0527s vs `on_train_batch_end` time: 0.1388s). Check your callbacks.\n"
          ],
          "name": "stderr"
        },
        {
          "output_type": "stream",
          "text": [
            "49/49 [==============================] - 9s 188ms/step - loss: 14.6942 - accuracy: 0.2082\n",
            "Epoch 2/5\n",
            "49/49 [==============================] - 9s 191ms/step - loss: 1.6969 - accuracy: 0.4168\n",
            "Epoch 3/5\n",
            "49/49 [==============================] - 9s 190ms/step - loss: 1.4554 - accuracy: 0.4962\n",
            "Epoch 4/5\n",
            "49/49 [==============================] - 9s 190ms/step - loss: 1.3109 - accuracy: 0.5459\n",
            "Epoch 5/5\n",
            "49/49 [==============================] - 9s 191ms/step - loss: 1.1848 - accuracy: 0.5934\n",
            "4\n",
            "Epoch 1/5\n",
            " 2/49 [>.............................] - ETA: 6s - loss: 4.0452 - accuracy: 0.0986WARNING:tensorflow:Callbacks method `on_train_batch_end` is slow compared to the batch time (batch time: 0.0373s vs `on_train_batch_end` time: 0.1213s). Check your callbacks.\n"
          ],
          "name": "stdout"
        },
        {
          "output_type": "stream",
          "text": [
            "WARNING:tensorflow:Callbacks method `on_train_batch_end` is slow compared to the batch time (batch time: 0.0373s vs `on_train_batch_end` time: 0.1213s). Check your callbacks.\n"
          ],
          "name": "stderr"
        },
        {
          "output_type": "stream",
          "text": [
            "49/49 [==============================] - 8s 159ms/step - loss: 2.0759 - accuracy: 0.2878\n",
            "Epoch 2/5\n",
            "49/49 [==============================] - 8s 159ms/step - loss: 1.5493 - accuracy: 0.4531\n",
            "Epoch 3/5\n",
            "49/49 [==============================] - 8s 159ms/step - loss: 1.4230 - accuracy: 0.4988\n",
            "Epoch 4/5\n",
            "49/49 [==============================] - 8s 159ms/step - loss: 1.3584 - accuracy: 0.5227\n",
            "Epoch 5/5\n",
            "49/49 [==============================] - 8s 159ms/step - loss: 1.2965 - accuracy: 0.5461\n",
            "Generation: 5\n",
            "Best fitness: 0.62\n",
            "Average fitness: 0.52\n",
            "{'a_filter_size': (3, 3), 'a_include_BN': False, 'a_output_channels': 8, 'activation_type': <class 'tensorflow.python.keras.layers.advanced_activations.ReLU'>, 'b_filter_size': (3, 3), 'b_include_BN': False, 'b_output_channels': 512, 'include_pool': False, 'pool_type': <class 'tensorflow.python.keras.layers.pooling.AveragePooling2D'>}\n"
          ],
          "name": "stdout"
        }
      ]
    }
  ]
}