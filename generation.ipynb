{
  "nbformat": 4,
  "nbformat_minor": 0,
  "metadata": {
    "colab": {
      "name": "generation.ipynb",
      "provenance": [],
      "collapsed_sections": [],
      "authorship_tag": "ABX9TyPZfN7eBGrXlk1oBuSFXOYl",
      "include_colab_link": true
    },
    "kernelspec": {
      "name": "python3",
      "display_name": "Python 3"
    },
    "accelerator": "GPU"
  },
  "cells": [
    {
      "cell_type": "markdown",
      "metadata": {
        "id": "view-in-github",
        "colab_type": "text"
      },
      "source": [
        "<a href=\"https://colab.research.google.com/github/ariG23498/GA-hyper-params/blob/main/generation.ipynb\" target=\"_parent\"><img src=\"https://colab.research.google.com/assets/colab-badge.svg\" alt=\"Open In Colab\"/></a>"
      ]
    },
    {
      "cell_type": "markdown",
      "metadata": {
        "id": "GHODXLc_c42T"
      },
      "source": [
        "# Organism"
      ]
    },
    {
      "cell_type": "code",
      "metadata": {
        "id": "xgV-DBoZTIU5",
        "outputId": "1d824931-b5ff-41ec-fd6e-a7744e99bcb4",
        "colab": {
          "base_uri": "https://localhost:8080/",
          "height": 384
        }
      },
      "source": [
        "! nvidia-smi"
      ],
      "execution_count": 1,
      "outputs": [
        {
          "output_type": "stream",
          "text": [
            "Wed Oct 14 07:44:51 2020       \n",
            "+-----------------------------------------------------------------------------+\n",
            "| NVIDIA-SMI 455.23.05    Driver Version: 418.67       CUDA Version: 10.1     |\n",
            "|-------------------------------+----------------------+----------------------+\n",
            "| GPU  Name        Persistence-M| Bus-Id        Disp.A | Volatile Uncorr. ECC |\n",
            "| Fan  Temp  Perf  Pwr:Usage/Cap|         Memory-Usage | GPU-Util  Compute M. |\n",
            "|                               |                      |               MIG M. |\n",
            "|===============================+======================+======================|\n",
            "|   0  Tesla P100-PCIE...  Off  | 00000000:00:04.0 Off |                    0 |\n",
            "| N/A   36C    P0    26W / 250W |      0MiB / 16280MiB |      0%      Default |\n",
            "|                               |                      |                 ERR! |\n",
            "+-------------------------------+----------------------+----------------------+\n",
            "                                                                               \n",
            "+-----------------------------------------------------------------------------+\n",
            "| Processes:                                                                  |\n",
            "|  GPU   GI   CI        PID   Type   Process name                  GPU Memory |\n",
            "|        ID   ID                                                   Usage      |\n",
            "|=============================================================================|\n",
            "|  No running processes found                                                 |\n",
            "+-----------------------------------------------------------------------------+\n"
          ],
          "name": "stdout"
        }
      ]
    },
    {
      "cell_type": "code",
      "metadata": {
        "id": "xWW81w9kcufg"
      },
      "source": [
        "import tensorflow as tf\n",
        "from tensorflow import keras\n",
        "from tensorflow.keras import Input\n",
        "from tensorflow.keras.layers import Conv2D, BatchNormalization, MaxPool2D, ReLU, ELU, LeakyReLU, Flatten, Dense, AveragePooling2D\n",
        "import pprint\n",
        "pp = pprint.PrettyPrinter(indent=4)\n",
        "\n",
        "import numpy as np\n",
        "np.random.seed(666)\n",
        "tf.random.set_seed(666)"
      ],
      "execution_count": 2,
      "outputs": []
    },
    {
      "cell_type": "code",
      "metadata": {
        "id": "2MvBbpHYQ3Ac"
      },
      "source": [
        "options = {\n",
        "    'a_filter_size': [(1,1), (3,3), (5,5), (7,7), (9,9)],\n",
        "    'a_include_BN': [True, False],\n",
        "    'a_output_channels': [8, 16, 32, 64, 128, 256, 512],\n",
        "    'activation_type': [ReLU, ELU, LeakyReLU],\n",
        "    'b_filter_size': [(1,1), (3,3), (5,5), (7,7), (9,9)],\n",
        "    'b_include_BN': [True, False],\n",
        "    'b_output_channels': [8, 16, 32, 64, 128, 256, 512],\n",
        "    'include_pool': [True, False],\n",
        "    'pool_type': [MaxPool2D, AveragePooling2D]\n",
        "    }"
      ],
      "execution_count": 3,
      "outputs": []
    },
    {
      "cell_type": "code",
      "metadata": {
        "id": "lw0d3iSc4h-W",
        "outputId": "8f57eb19-5c46-4ec4-b50f-070ebb0b29e5",
        "colab": {
          "base_uri": "https://localhost:8080/",
          "height": 54
        }
      },
      "source": [
        "# Load the training and testing set of CIFAR10\n",
        "(X_train, y_train), (X_test, y_test) = tf.keras.datasets.cifar10.load_data()\n",
        "\n",
        "X_train = X_train.astype('float32')\n",
        "X_train = X_train/255.\n",
        "\n",
        "X_test = X_test.astype('float32')\n",
        "X_test = X_test/255.\n",
        "\n",
        "y_train = tf.reshape(tf.one_hot(y_train, 10), shape=(-1, 10))\n",
        "y_test = tf.reshape(tf.one_hot(y_test, 10), shape=(-1, 10))\n",
        "\n",
        "# Create TensorFlow dataset\n",
        "BATCH_SIZE = 1024\n",
        "AUTOTUNE = tf.data.experimental.AUTOTUNE\n",
        "\n",
        "train_ds = tf.data.Dataset.from_tensor_slices((X_train, y_train))\n",
        "train_ds = train_ds.shuffle(1024).cache().batch(BATCH_SIZE).prefetch(AUTOTUNE)\n",
        "\n",
        "test_ds = tf.data.Dataset.from_tensor_slices((X_test, y_test))\n",
        "test_ds = test_ds.cache().batch(BATCH_SIZE).prefetch(AUTOTUNE)"
      ],
      "execution_count": 4,
      "outputs": [
        {
          "output_type": "stream",
          "text": [
            "Downloading data from https://www.cs.toronto.edu/~kriz/cifar-10-python.tar.gz\n",
            "170500096/170498071 [==============================] - 11s 0us/step\n"
          ],
          "name": "stdout"
        }
      ]
    },
    {
      "cell_type": "code",
      "metadata": {
        "id": "NVFva6ygc0A1"
      },
      "source": [
        "class Organism:\n",
        "\n",
        "  def __init__(self, chromosome={}, phase=0):\n",
        "    self.phase = phase\n",
        "    self.chromosome = chromosome\n",
        "    if len(self.chromosome) != 0:\n",
        "      self.build_model()\n",
        "\n",
        "  def build_model(self):\n",
        "    if self.phase == 0:\n",
        "      keras.backend.clear_session()\n",
        "      inputs = Input(shape=(32,32,3))\n",
        "      x = Conv2D(filters=self.chromosome['a_output_channels'],\n",
        "                 kernel_size=self.chromosome['a_filter_size'],\n",
        "                 use_bias=self.chromosome['a_include_BN'])(inputs)\n",
        "      if self.chromosome['a_include_BN']:\n",
        "        x = BatchNormalization()(x)\n",
        "      x = self.chromosome['activation_type']()(x)\n",
        "      if self.chromosome['include_pool']:\n",
        "        x = self.chromosome['pool_type']()(x)\n",
        "\n",
        "      x = Conv2D(filters=self.chromosome['b_output_channels'],\n",
        "                 kernel_size=self.chromosome['b_filter_size'],\n",
        "                 use_bias=self.chromosome['b_include_BN'])(x)\n",
        "      if self.chromosome['b_include_BN']:\n",
        "        x = BatchNormalization()(x)\n",
        "      x = self.chromosome['activation_type']()(x)\n",
        "\n",
        "      x = Flatten()(x)\n",
        "      x = Dense(10, activation='softmax')(x)\n",
        "\n",
        "      self.model = tf.keras.Model(inputs=[inputs], outputs=[x])\n",
        "      self.model.compile(optimizer='adam',\n",
        "                         loss='categorical_crossentropy',\n",
        "                         metrics=['accuracy'])\n",
        "    else:\n",
        "      print('Phase under construction')\n",
        "      \n",
        "  def fitnessFunction(self, train_ds, test_ds):\n",
        "    self.model.fit(train_ds,\n",
        "                   epochs=5,\n",
        "                   verbose=0)\n",
        "    _, self.fitness = self.model.evaluate(test_ds, verbose=0)\n",
        "  \n",
        "  def crossover(self, partner):\n",
        "    child = Organism(chromosome={}, phase=0)\n",
        "    endpoint = np.random.randint(low=0, high=len(self.chromosome))\n",
        "    for idx, key in enumerate(self.chromosome):\n",
        "      if idx <= endpoint:\n",
        "        child.chromosome[key] = self.chromosome[key]\n",
        "      else:\n",
        "        child.chromosome[key] = partner.chromosome[key]\n",
        "    child.build_model()\n",
        "    return child\n",
        "  \n",
        "  def mutation(self):\n",
        "    '''one of the gene is to be mutated'''\n",
        "    index = np.random.randint(0, len(self.chromosome))\n",
        "    key = list(self.chromosome.keys())[index]\n",
        "    self.chromosome[key] = options[key][np.random.randint(len(options[key]))]\n",
        "    self.build_model()\n",
        "  \n",
        "  def show(self):\n",
        "    pp.pprint(self.chromosome)"
      ],
      "execution_count": 5,
      "outputs": []
    },
    {
      "cell_type": "markdown",
      "metadata": {
        "id": "UEVFOsxlc8ef"
      },
      "source": [
        "# Generation"
      ]
    },
    {
      "cell_type": "code",
      "metadata": {
        "id": "h0sAUTuhiKTa"
      },
      "source": [
        "def random_hyper():\n",
        "  return {\n",
        "    'a_filter_size': options['a_filter_size'][np.random.randint(len(options['a_filter_size']))],\n",
        "    'a_include_BN': options['a_include_BN'][np.random.randint(len(options['a_include_BN']))],\n",
        "    'a_output_channels': options['a_output_channels'][np.random.randint(len(options['a_output_channels']))],\n",
        "    'activation_type': options['activation_type'][np.random.randint(len(options['activation_type']))],\n",
        "    'b_filter_size': options['b_filter_size'][np.random.randint(len(options['b_filter_size']))],\n",
        "    'b_include_BN': options['b_include_BN'][np.random.randint(len(options['b_include_BN']))],\n",
        "    'b_output_channels': options['b_output_channels'][np.random.randint(len(options['b_output_channels']))],\n",
        "    'include_pool': options['include_pool'][np.random.randint(len(options['include_pool']))],\n",
        "    'pool_type': options['pool_type'][np.random.randint(len(options['pool_type']))]\n",
        "    }\n",
        "\n",
        "def softmax(x):\n",
        "  e_x = np.exp(x - np.max(x))\n",
        "  return e_x / e_x.sum()"
      ],
      "execution_count": 6,
      "outputs": []
    },
    {
      "cell_type": "code",
      "metadata": {
        "id": "cfa1Y5TNVYcY"
      },
      "source": [
        "class Generation:\n",
        "\t\n",
        "\tdef __init__(self,\n",
        "\t\t\t\t\t\t\tfitSurvivalRate,\n",
        "\t\t\t\t\t\t\tunfitSurvivalProb,\n",
        "\t\t\t\t\t\t\tmutationRate,\n",
        "\t\t\t\t\t\t\tpopulation_size):\n",
        "\t\tself.population_size = population_size\n",
        "\t\tself.population = []\n",
        "\t\tself.generation_number = 0\n",
        "\t\tself.mutationRate = mutationRate\n",
        "\t\tself.fitSurvivalRate = fitSurvivalRate\n",
        "\t\tself.unfitSurvivalProb = unfitSurvivalProb\n",
        "\n",
        "\t\t# creating the first population GENERATION 1\n",
        "\t\t# can be thought of as the setup function\n",
        "\t\tfor idx in range(self.population_size):\n",
        "\t\t\tself.population.append(Organism(random_hyper(), phase=0))\n",
        "\t\t# calculates the fitness of all the organisms\n",
        "\t\tself.calcFitness(first=True)\n",
        "\n",
        "\tdef calcFitness(self, first=False):\n",
        "\t\t# This function is used to calculate the fitness of all\n",
        "\t\t# the individuals of the population.\n",
        "\t\tif first:\n",
        "\t\t\tfor individuals in self.population:\n",
        "\t\t\t\tindividuals.fitnessFunction(train_ds, test_ds)\n",
        "\t \t# sort the population from high to low\n",
        "\t\tfitness = [ind.fitness for ind in self.population]\n",
        "\t\tsort_index = np.argsort(fitness)[::-1]\n",
        "\t\tself.population = [self.population[index] for index in sort_index]\n",
        "\t# genrate the children and place them in the previous generation\n",
        "\t# to make new generation\n",
        "\tdef generate(self):\n",
        "\t\tnumber_of_fit = int(self.population_size * self.fitSurvivalRate)\n",
        "\t\tnew_pop = self.population[:number_of_fit]\n",
        "\t\tfor individual in self.population[number_of_fit:]:\n",
        "\t\t\tif np.random.rand() <= self.unfitSurvivalProb:\n",
        "\t\t\t\tnew_pop.append(individual)\n",
        "\t\tfor index, individual in enumerate(new_pop):\n",
        "\t\t\tif np.random.rand() <= self.mutationRate:\n",
        "\t\t\t\tnew_pop[index].mutation()\n",
        "\t\tfitness = [ind.fitness for ind in new_pop]\n",
        "\t\tchildren=[]\n",
        "\t\t# create children with pairs\n",
        "\t\tfor idx in range (self.population_size-len(new_pop)):\n",
        "\t\t\tparents = np.random.choice(new_pop, replace=False, size=(2,), p=softmax(fitness))\n",
        "\t\t\tA=parents[0]\n",
        "\t\t\tB=parents[1]\n",
        "\t\t\tchild=A.crossover(B)\n",
        "\t\t\tchild.fitnessFunction(train_ds, test_ds)\n",
        "\t\t\tchildren.append(child)\n",
        "\t\tself.generation_number+=1\n",
        "\t\tself.population = new_pop+children\n",
        "\t# evaluates the whole generation's fitness\n",
        "\tdef evaluate(self):\n",
        "\t\tfitness = [ind.fitness for ind in self.population]\n",
        "\t\tprint('Generation: {}'.format(self.generation_number))\n",
        "\t\tprint('Best fitness: {:0.2f}'.format(fitness[0]))\n",
        "\t\tprint('Average fitness: {:0.2f}'.format(sum(fitness)/len(fitness)))\n",
        "\t\tself.population[0].show()"
      ],
      "execution_count": 13,
      "outputs": []
    },
    {
      "cell_type": "code",
      "metadata": {
        "id": "3BbVfUL3nZrh",
        "outputId": "0b863bce-e1d0-4b1d-c2f7-9f2f00b605de",
        "colab": {
          "base_uri": "https://localhost:8080/",
          "height": 1000
        }
      },
      "source": [
        "population_size = 50\n",
        "numer_generation = 5\n",
        "fitSurvivalRate = 0.5\n",
        "unfitSurvivalProb = 0.2\n",
        "mutationRate = 0.1\n",
        "generation = Generation(fitSurvivalRate=fitSurvivalRate,\n",
        "                        unfitSurvivalProb=unfitSurvivalProb,\n",
        "\t\t\t\t\t\t\t\t\t\t\t\tmutationRate=mutationRate,\n",
        "\t\t\t\t\t\t\t\t\t\t\t\tpopulation_size=population_size)\n",
        "\n",
        "while generation.generation_number <= numer_generation:\n",
        "\tgeneration.generate()\n",
        "\tgeneration.calcFitness()\n",
        "\tgeneration.evaluate()"
      ],
      "execution_count": 19,
      "outputs": [
        {
          "output_type": "stream",
          "text": [
            "Generation: 1\n",
            "Best fitness: 0.53\n",
            "Average fitness: 0.34\n",
            "{   'a_filter_size': (5, 5),\n",
            "    'a_include_BN': False,\n",
            "    'a_output_channels': 128,\n",
            "    'activation_type': <class 'tensorflow.python.keras.layers.advanced_activations.ReLU'>,\n",
            "    'b_filter_size': (7, 7),\n",
            "    'b_include_BN': False,\n",
            "    'b_output_channels': 64,\n",
            "    'include_pool': True,\n",
            "    'pool_type': <class 'tensorflow.python.keras.layers.pooling.AveragePooling2D'>}\n",
            "Generation: 2\n",
            "Best fitness: 0.53\n",
            "Average fitness: 0.41\n",
            "{   'a_filter_size': (5, 5),\n",
            "    'a_include_BN': False,\n",
            "    'a_output_channels': 16,\n",
            "    'activation_type': <class 'tensorflow.python.keras.layers.advanced_activations.LeakyReLU'>,\n",
            "    'b_filter_size': (3, 3),\n",
            "    'b_include_BN': True,\n",
            "    'b_output_channels': 64,\n",
            "    'include_pool': True,\n",
            "    'pool_type': <class 'tensorflow.python.keras.layers.pooling.AveragePooling2D'>}\n",
            "Generation: 3\n",
            "Best fitness: 0.53\n",
            "Average fitness: 0.44\n",
            "{   'a_filter_size': (5, 5),\n",
            "    'a_include_BN': False,\n",
            "    'a_output_channels': 16,\n",
            "    'activation_type': <class 'tensorflow.python.keras.layers.advanced_activations.LeakyReLU'>,\n",
            "    'b_filter_size': (3, 3),\n",
            "    'b_include_BN': True,\n",
            "    'b_output_channels': 64,\n",
            "    'include_pool': True,\n",
            "    'pool_type': <class 'tensorflow.python.keras.layers.pooling.AveragePooling2D'>}\n",
            "Generation: 4\n",
            "Best fitness: 0.53\n",
            "Average fitness: 0.47\n",
            "{   'a_filter_size': (9, 9),\n",
            "    'a_include_BN': False,\n",
            "    'a_output_channels': 16,\n",
            "    'activation_type': <class 'tensorflow.python.keras.layers.advanced_activations.ReLU'>,\n",
            "    'b_filter_size': (3, 3),\n",
            "    'b_include_BN': True,\n",
            "    'b_output_channels': 64,\n",
            "    'include_pool': True,\n",
            "    'pool_type': <class 'tensorflow.python.keras.layers.pooling.MaxPooling2D'>}\n",
            "Generation: 5\n",
            "Best fitness: 0.55\n",
            "Average fitness: 0.49\n",
            "{   'a_filter_size': (9, 9),\n",
            "    'a_include_BN': False,\n",
            "    'a_output_channels': 64,\n",
            "    'activation_type': <class 'tensorflow.python.keras.layers.advanced_activations.ReLU'>,\n",
            "    'b_filter_size': (1, 1),\n",
            "    'b_include_BN': False,\n",
            "    'b_output_channels': 512,\n",
            "    'include_pool': True,\n",
            "    'pool_type': <class 'tensorflow.python.keras.layers.pooling.MaxPooling2D'>}\n",
            "Generation: 6\n",
            "Best fitness: 0.60\n",
            "Average fitness: 0.51\n",
            "{   'a_filter_size': (5, 5),\n",
            "    'a_include_BN': False,\n",
            "    'a_output_channels': 64,\n",
            "    'activation_type': <class 'tensorflow.python.keras.layers.advanced_activations.ReLU'>,\n",
            "    'b_filter_size': (1, 1),\n",
            "    'b_include_BN': False,\n",
            "    'b_output_channels': 512,\n",
            "    'include_pool': False,\n",
            "    'pool_type': <class 'tensorflow.python.keras.layers.pooling.MaxPooling2D'>}\n"
          ],
          "name": "stdout"
        }
      ]
    }
  ]
}