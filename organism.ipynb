{
  "nbformat": 4,
  "nbformat_minor": 0,
  "metadata": {
    "colab": {
      "name": "organism.ipynb",
      "provenance": [],
      "collapsed_sections": [],
      "authorship_tag": "ABX9TyPtyZi/xw2iyxEV7Kbk7tPW"
    },
    "kernelspec": {
      "name": "python3",
      "display_name": "Python 3"
    },
    "accelerator": "GPU"
  },
  "cells": [
    {
      "cell_type": "markdown",
      "metadata": {
        "id": "PEnB8T0fpAI1"
      },
      "source": [
        "# Imports"
      ]
    },
    {
      "cell_type": "code",
      "metadata": {
        "id": "D5dfl90DX7vt"
      },
      "source": [
        "import tensorflow as tf\n",
        "from tensorflow import keras\n",
        "from tensorflow.keras import Input\n",
        "from tensorflow.keras.layers import Conv2D, BatchNormalization, MaxPool2D, ReLU, Flatten, Dense\n",
        "tf.random.set_seed(666)"
      ],
      "execution_count": 1,
      "outputs": []
    },
    {
      "cell_type": "code",
      "metadata": {
        "id": "FzDUt8uD18hU",
        "outputId": "0a3a9a68-3d5b-4290-fe18-55c2e77bbf50",
        "colab": {
          "base_uri": "https://localhost:8080/",
          "height": 54
        }
      },
      "source": [
        "# Load the training and testing set of CIFAR10\n",
        "(X_train, y_train), (X_test, y_test) = tf.keras.datasets.cifar10.load_data()\n",
        "\n",
        "X_train = X_train.astype('float32')\n",
        "X_train = X_train/255.\n",
        "\n",
        "X_test = X_test.astype('float32')\n",
        "X_test = X_test/255.\n",
        "\n",
        "y_train = tf.reshape(tf.one_hot(y_train, 10), shape=(-1, 10))\n",
        "y_test = tf.reshape(tf.one_hot(y_test, 10), shape=(-1, 10))"
      ],
      "execution_count": 2,
      "outputs": [
        {
          "output_type": "stream",
          "text": [
            "Downloading data from https://www.cs.toronto.edu/~kriz/cifar-10-python.tar.gz\n",
            "170500096/170498071 [==============================] - 6s 0us/step\n"
          ],
          "name": "stdout"
        }
      ]
    },
    {
      "cell_type": "code",
      "metadata": {
        "id": "aar3EjGzQc9g"
      },
      "source": [
        "# Create TensorFlow dataset\n",
        "BATCH_SIZE = 256\n",
        "AUTOTUNE = tf.data.experimental.AUTOTUNE\n",
        "\n",
        "train_ds = tf.data.Dataset.from_tensor_slices((X_train, y_train))\n",
        "train_ds = train_ds.shuffle(1024).cache().batch(BATCH_SIZE).prefetch(AUTOTUNE)\n",
        "\n",
        "test_ds = tf.data.Dataset.from_tensor_slices((X_test, y_test))\n",
        "test_ds = test_ds.cache().batch(BATCH_SIZE).prefetch(AUTOTUNE)"
      ],
      "execution_count": 8,
      "outputs": []
    },
    {
      "cell_type": "code",
      "metadata": {
        "id": "9Sz2epygSMZS",
        "outputId": "c770ae44-ef99-4ca3-ed1c-7f870878022f",
        "colab": {
          "base_uri": "https://localhost:8080/",
          "height": 54
        }
      },
      "source": [
        "for image, label in train_ds.take(1):\n",
        "  print(image.shape)\n",
        "  print(label.shape)"
      ],
      "execution_count": 14,
      "outputs": [
        {
          "output_type": "stream",
          "text": [
            "(256, 32, 32, 3)\n",
            "(256, 10)\n"
          ],
          "name": "stdout"
        }
      ]
    },
    {
      "cell_type": "code",
      "metadata": {
        "id": "7ZjXoDSApB8b"
      },
      "source": [
        "class Organism:\n",
        "    def __init__(self, chromosome, phase):\n",
        "        self.phase = phase\n",
        "        self.chromosome = chromosome\n",
        "    def build_model(self):\n",
        "        if self.phase == 0:\n",
        "            keras.backend.clear_session()\n",
        "            \n",
        "            inputs = Input(shape=(32,32,3))\n",
        "            x = Conv2D(filters=self.chromosome['a_output_channels'],\n",
        "                        kernel_size=self.chromosome['a_filter_size'],\n",
        "                        use_bias=self.chromosome['a_include_BN'])(inputs)\n",
        "            if self.chromosome['a_include_BN']:\n",
        "                x = BatchNormalization()(x)\n",
        "            x = self.chromosome['activation_type']()(x)\n",
        "            if self.chromosome['include_pool']:\n",
        "                x = self.chromosome['pool_type'](x)\n",
        "\n",
        "            x = Conv2D(filters=self.chromosome['b_output_channels'],\n",
        "                        kernel_size=self.chromosome['b_filter_size'],\n",
        "                        use_bias=self.chromosome['b_include_BN'])(x)\n",
        "            if self.chromosome['b_include_BN']:\n",
        "                x = BatchNormalization()(x)\n",
        "            x = self.chromosome['activation_type']()(x)\n",
        "\n",
        "            x = Flatten()(x)\n",
        "            x = Dense(10, activation='softmax')(x)\n",
        "\n",
        "            self.model = tf.keras.Model(inputs=[inputs], outputs=[x])\n",
        "            self.model.compile(optimizer='adam',\n",
        "                                loss='categorical_crossentropy',\n",
        "                                metrics=['accuracy'])\n",
        "        else:\n",
        "            print('Phase under construction')\n",
        "    \n",
        "    def fitnessFunction(self, train_ds, test_ds):\n",
        "        self.model.fit(train_ds,\n",
        "                       epochs=5,\n",
        "                       verbose=1)\n",
        "        _, self.fitness = self.model.evaluate(test_ds, verbose=0)\n",
        "    \n",
        "    def crossover(self,partner):\n",
        "        pass\n",
        "    \n",
        "    def mutation(self, mutationRate):\n",
        "        pass"
      ],
      "execution_count": 13,
      "outputs": []
    },
    {
      "cell_type": "code",
      "metadata": {
        "id": "_SjZbYSi2039"
      },
      "source": [
        "demo = Organism({'a_output_channels':64,\n",
        "                 'b_output_channels':128,\n",
        "                 'a_filter_size':(3,3),\n",
        "                 'b_filter_size':(3,3),\n",
        "                 'a_include_BN':True,\n",
        "                 'b_include_BN':True,\n",
        "                 'activation_type': ReLU,\n",
        "                 'include_pool': True,\n",
        "                 'pool_type': MaxPool2D()\n",
        "                 }, \n",
        "                phase=0)\n",
        "keras.backend.clear_session()\n",
        "demo.build_model()\n",
        "# tf.keras.utils.plot_model(demo.model, show_shapes=True)"
      ],
      "execution_count": 10,
      "outputs": []
    },
    {
      "cell_type": "code",
      "metadata": {
        "id": "FXq4uk519vhu",
        "outputId": "dde3b7db-9ff5-4666-bbd8-5f55e0c53239",
        "colab": {
          "base_uri": "https://localhost:8080/",
          "height": 384
        }
      },
      "source": [
        "demo.fitnessFunction(train_ds, test_ds)"
      ],
      "execution_count": 11,
      "outputs": [
        {
          "output_type": "stream",
          "text": [
            "Epoch 1/10\n",
            "196/196 [==============================] - 2s 11ms/step - loss: 1.5339 - accuracy: 0.5197\n",
            "Epoch 2/10\n",
            "196/196 [==============================] - 2s 10ms/step - loss: 1.0066 - accuracy: 0.6587\n",
            "Epoch 3/10\n",
            "196/196 [==============================] - 2s 10ms/step - loss: 0.8354 - accuracy: 0.7158\n",
            "Epoch 4/10\n",
            "196/196 [==============================] - 2s 10ms/step - loss: 0.7306 - accuracy: 0.7490\n",
            "Epoch 5/10\n",
            "196/196 [==============================] - 2s 10ms/step - loss: 0.6492 - accuracy: 0.7776\n",
            "Epoch 6/10\n",
            "196/196 [==============================] - 2s 10ms/step - loss: 0.6136 - accuracy: 0.7868\n",
            "Epoch 7/10\n",
            "196/196 [==============================] - 2s 10ms/step - loss: 0.5536 - accuracy: 0.8058\n",
            "Epoch 8/10\n",
            "196/196 [==============================] - 2s 10ms/step - loss: 0.4825 - accuracy: 0.8330\n",
            "Epoch 9/10\n",
            "196/196 [==============================] - 2s 10ms/step - loss: 0.4342 - accuracy: 0.8510\n",
            "Epoch 10/10\n",
            "196/196 [==============================] - 2s 10ms/step - loss: 0.4198 - accuracy: 0.8521\n"
          ],
          "name": "stdout"
        }
      ]
    },
    {
      "cell_type": "code",
      "metadata": {
        "id": "ihvqKkFP-yQv",
        "outputId": "b4a9aaf3-e660-417b-e012-afb454b9a193",
        "colab": {
          "base_uri": "https://localhost:8080/",
          "height": 35
        }
      },
      "source": [
        "demo.fitness"
      ],
      "execution_count": 12,
      "outputs": [
        {
          "output_type": "execute_result",
          "data": {
            "text/plain": [
              "0.6377999782562256"
            ]
          },
          "metadata": {
            "tags": []
          },
          "execution_count": 12
        }
      ]
    }
  ]
}