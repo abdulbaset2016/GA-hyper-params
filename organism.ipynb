{
  "nbformat": 4,
  "nbformat_minor": 0,
  "metadata": {
    "colab": {
      "name": "organism.ipynb",
      "provenance": [],
      "collapsed_sections": [],
      "authorship_tag": "ABX9TyPQ1khEFn1d8pldIBFIUnVS"
    },
    "kernelspec": {
      "name": "python3",
      "display_name": "Python 3"
    },
    "accelerator": "GPU"
  },
  "cells": [
    {
      "cell_type": "markdown",
      "metadata": {
        "id": "PEnB8T0fpAI1"
      },
      "source": [
        "# Imports"
      ]
    },
    {
      "cell_type": "code",
      "metadata": {
        "id": "ZGw0qs6JTgJv",
        "outputId": "cff3240e-7de7-464f-92b5-9e5ee88b9c75",
        "colab": {
          "base_uri": "https://localhost:8080/",
          "height": 384
        }
      },
      "source": [
        "! nvidia-smi"
      ],
      "execution_count": 2,
      "outputs": [
        {
          "output_type": "stream",
          "text": [
            "Tue Oct 13 03:51:18 2020       \n",
            "+-----------------------------------------------------------------------------+\n",
            "| NVIDIA-SMI 455.23.05    Driver Version: 418.67       CUDA Version: 10.1     |\n",
            "|-------------------------------+----------------------+----------------------+\n",
            "| GPU  Name        Persistence-M| Bus-Id        Disp.A | Volatile Uncorr. ECC |\n",
            "| Fan  Temp  Perf  Pwr:Usage/Cap|         Memory-Usage | GPU-Util  Compute M. |\n",
            "|                               |                      |               MIG M. |\n",
            "|===============================+======================+======================|\n",
            "|   0  Tesla P100-PCIE...  Off  | 00000000:00:04.0 Off |                    0 |\n",
            "| N/A   32C    P0    27W / 250W |      0MiB / 16280MiB |      0%      Default |\n",
            "|                               |                      |                 ERR! |\n",
            "+-------------------------------+----------------------+----------------------+\n",
            "                                                                               \n",
            "+-----------------------------------------------------------------------------+\n",
            "| Processes:                                                                  |\n",
            "|  GPU   GI   CI        PID   Type   Process name                  GPU Memory |\n",
            "|        ID   ID                                                   Usage      |\n",
            "|=============================================================================|\n",
            "|  No running processes found                                                 |\n",
            "+-----------------------------------------------------------------------------+\n"
          ],
          "name": "stdout"
        }
      ]
    },
    {
      "cell_type": "code",
      "metadata": {
        "id": "D5dfl90DX7vt"
      },
      "source": [
        "import tensorflow as tf\n",
        "from tensorflow import keras\n",
        "from tensorflow.keras import Input\n",
        "from tensorflow.keras.layers import Conv2D, BatchNormalization, MaxPool2D, ReLU, Flatten, Dense\n",
        "\n",
        "import numpy as np\n",
        "np.random.seed(666)\n",
        "tf.random.set_seed(666)"
      ],
      "execution_count": 5,
      "outputs": []
    },
    {
      "cell_type": "code",
      "metadata": {
        "id": "FzDUt8uD18hU",
        "outputId": "423a12d3-b413-4b55-c758-bcaa83e3f37a",
        "colab": {
          "base_uri": "https://localhost:8080/",
          "height": 54
        }
      },
      "source": [
        "# Load the training and testing set of CIFAR10\n",
        "(X_train, y_train), (X_test, y_test) = tf.keras.datasets.cifar10.load_data()\n",
        "\n",
        "X_train = X_train.astype('float32')\n",
        "X_train = X_train/255.\n",
        "\n",
        "X_test = X_test.astype('float32')\n",
        "X_test = X_test/255.\n",
        "\n",
        "y_train = tf.reshape(tf.one_hot(y_train, 10), shape=(-1, 10))\n",
        "y_test = tf.reshape(tf.one_hot(y_test, 10), shape=(-1, 10))"
      ],
      "execution_count": 6,
      "outputs": [
        {
          "output_type": "stream",
          "text": [
            "Downloading data from https://www.cs.toronto.edu/~kriz/cifar-10-python.tar.gz\n",
            "170500096/170498071 [==============================] - 4s 0us/step\n"
          ],
          "name": "stdout"
        }
      ]
    },
    {
      "cell_type": "code",
      "metadata": {
        "id": "aar3EjGzQc9g"
      },
      "source": [
        "# Create TensorFlow dataset\n",
        "BATCH_SIZE = 256\n",
        "AUTOTUNE = tf.data.experimental.AUTOTUNE\n",
        "\n",
        "train_ds = tf.data.Dataset.from_tensor_slices((X_train, y_train))\n",
        "train_ds = train_ds.shuffle(1024).cache().batch(BATCH_SIZE).prefetch(AUTOTUNE)\n",
        "\n",
        "test_ds = tf.data.Dataset.from_tensor_slices((X_test, y_test))\n",
        "test_ds = test_ds.cache().batch(BATCH_SIZE).prefetch(AUTOTUNE)"
      ],
      "execution_count": 7,
      "outputs": []
    },
    {
      "cell_type": "code",
      "metadata": {
        "id": "9Sz2epygSMZS",
        "outputId": "dbc98979-fa3a-49a8-d721-27de61fe9937",
        "colab": {
          "base_uri": "https://localhost:8080/",
          "height": 54
        }
      },
      "source": [
        "for image, label in train_ds.take(1):\n",
        "  print(image.shape)\n",
        "  print(label.shape)"
      ],
      "execution_count": 8,
      "outputs": [
        {
          "output_type": "stream",
          "text": [
            "(256, 32, 32, 3)\n",
            "(256, 10)\n"
          ],
          "name": "stdout"
        }
      ]
    },
    {
      "cell_type": "code",
      "metadata": {
        "id": "7ZjXoDSApB8b"
      },
      "source": [
        "class Organism:\n",
        "    def __init__(self, chromosome={}, phase=0):\n",
        "      self.phase = phase\n",
        "      self.chromosome = chromosome\n",
        "    \n",
        "    def build_model(self):\n",
        "      if self.phase == 0:\n",
        "        keras.backend.clear_session()\n",
        "        \n",
        "        inputs = Input(shape=(32,32,3))\n",
        "        x = Conv2D(filters=self.chromosome['a_output_channels'],\n",
        "                    kernel_size=self.chromosome['a_filter_size'],\n",
        "                    use_bias=self.chromosome['a_include_BN'])(inputs)\n",
        "        if self.chromosome['a_include_BN']:\n",
        "            x = BatchNormalization()(x)\n",
        "        x = self.chromosome['activation_type']()(x)\n",
        "        if self.chromosome['include_pool']:\n",
        "            x = self.chromosome['pool_type']()(x)\n",
        "\n",
        "        x = Conv2D(filters=self.chromosome['b_output_channels'],\n",
        "                    kernel_size=self.chromosome['b_filter_size'],\n",
        "                    use_bias=self.chromosome['b_include_BN'])(x)\n",
        "        if self.chromosome['b_include_BN']:\n",
        "            x = BatchNormalization()(x)\n",
        "        x = self.chromosome['activation_type']()(x)\n",
        "\n",
        "        x = Flatten()(x)\n",
        "        x = Dense(10, activation='softmax')(x)\n",
        "\n",
        "        self.model = tf.keras.Model(inputs=[inputs], outputs=[x])\n",
        "        self.model.compile(optimizer='adam',\n",
        "                            loss='categorical_crossentropy',\n",
        "                            metrics=['accuracy'])\n",
        "      else:\n",
        "        print('Phase under construction')\n",
        "    \n",
        "    def fitnessFunction(self, train_ds, test_ds):\n",
        "      self.model.fit(train_ds,\n",
        "                      epochs=5,\n",
        "                      verbose=1)\n",
        "      _, self.fitness = self.model.evaluate(test_ds, verbose=0)\n",
        "    \n",
        "    def crossover(self, partner):\n",
        "      child = Organism(chromosome={}, phase=0)\n",
        "      endpoint = np.random.randint(low=0, high=len(self.chromosome))\n",
        "      for idx, key in enumerate(self.chromosome):\n",
        "        if idx <= endpoint:\n",
        "          child.chromosome[key] = self.chromosome[key]\n",
        "        else:\n",
        "          child.chromosome[key] = partner.chromosome[key]\n",
        "      return child\n",
        "    \n",
        "    def mutation(self, mutationRate):\n",
        "        pass"
      ],
      "execution_count": 29,
      "outputs": []
    },
    {
      "cell_type": "code",
      "metadata": {
        "id": "_SjZbYSi2039"
      },
      "source": [
        "org1 = Organism({'a_output_channels':32,\n",
        "                 'b_output_channels':18,\n",
        "                 'a_filter_size':(5,5),\n",
        "                 'b_filter_size':(5,5),\n",
        "                 'a_include_BN':False,\n",
        "                 'b_include_BN':True,\n",
        "                 'activation_type': ReLU,\n",
        "                 'include_pool': True,\n",
        "                 'pool_type': MaxPool2D\n",
        "                 }, \n",
        "                phase=0)\n",
        "\n",
        "org2 = Organism({'a_output_channels':64,\n",
        "                 'b_output_channels':128,\n",
        "                 'a_filter_size':(3,3),\n",
        "                 'b_filter_size':(3,3),\n",
        "                 'a_include_BN':True,\n",
        "                 'b_include_BN':True,\n",
        "                 'activation_type': ReLU,\n",
        "                 'include_pool': True,\n",
        "                 'pool_type': MaxPool2D\n",
        "                 }, \n",
        "                phase=0)\n",
        "\n",
        "org1.build_model()\n",
        "org2.build_model()"
      ],
      "execution_count": 30,
      "outputs": []
    },
    {
      "cell_type": "code",
      "metadata": {
        "id": "FXq4uk519vhu",
        "outputId": "304ed2d8-9c9f-4e1f-d291-d3ce1dd7bf82",
        "colab": {
          "base_uri": "https://localhost:8080/",
          "height": 384
        }
      },
      "source": [
        "org1.fitnessFunction(train_ds, test_ds)\n",
        "org2.fitnessFunction(train_ds, test_ds)"
      ],
      "execution_count": 14,
      "outputs": [
        {
          "output_type": "stream",
          "text": [
            "Epoch 1/5\n",
            "196/196 [==============================] - 1s 6ms/step - loss: 1.4837 - accuracy: 0.4651\n",
            "Epoch 2/5\n",
            "196/196 [==============================] - 1s 6ms/step - loss: 1.1622 - accuracy: 0.5915\n",
            "Epoch 3/5\n",
            "196/196 [==============================] - 1s 5ms/step - loss: 1.0519 - accuracy: 0.6288\n",
            "Epoch 4/5\n",
            "196/196 [==============================] - 1s 5ms/step - loss: 0.9833 - accuracy: 0.6566\n",
            "Epoch 5/5\n",
            "196/196 [==============================] - 1s 5ms/step - loss: 0.9329 - accuracy: 0.6747\n",
            "Epoch 1/5\n",
            "196/196 [==============================] - 2s 11ms/step - loss: 1.6842 - accuracy: 0.4975\n",
            "Epoch 2/5\n",
            "196/196 [==============================] - 2s 11ms/step - loss: 1.0400 - accuracy: 0.6489\n",
            "Epoch 3/5\n",
            "196/196 [==============================] - 2s 11ms/step - loss: 0.8689 - accuracy: 0.7070\n",
            "Epoch 4/5\n",
            "196/196 [==============================] - 2s 11ms/step - loss: 0.7501 - accuracy: 0.7447\n",
            "Epoch 5/5\n",
            "196/196 [==============================] - 2s 11ms/step - loss: 0.6675 - accuracy: 0.7701\n"
          ],
          "name": "stdout"
        }
      ]
    },
    {
      "cell_type": "code",
      "metadata": {
        "id": "ihvqKkFP-yQv",
        "outputId": "42694afc-6bbd-45b9-b287-0333fc0519ad",
        "colab": {
          "base_uri": "https://localhost:8080/",
          "height": 54
        }
      },
      "source": [
        "print('org1: {:0.2f}'.format(org1.fitness))\n",
        "print('org2: {:0.2f}'.format(org2.fitness))"
      ],
      "execution_count": 15,
      "outputs": [
        {
          "output_type": "stream",
          "text": [
            "org1: 0.63\n",
            "org2: 0.61\n"
          ],
          "name": "stdout"
        }
      ]
    },
    {
      "cell_type": "code",
      "metadata": {
        "id": "BoxCqovgHdKK",
        "outputId": "8aa141c1-b8be-499c-db8b-c031e318c310",
        "colab": {
          "base_uri": "https://localhost:8080/",
          "height": 182
        }
      },
      "source": [
        "org1_2 = org1.crossover(org2)\n",
        "org1_2.chromosome"
      ],
      "execution_count": 31,
      "outputs": [
        {
          "output_type": "execute_result",
          "data": {
            "text/plain": [
              "{'a_filter_size': (3, 3),\n",
              " 'a_include_BN': True,\n",
              " 'a_output_channels': 32,\n",
              " 'activation_type': tensorflow.python.keras.layers.advanced_activations.ReLU,\n",
              " 'b_filter_size': (3, 3),\n",
              " 'b_include_BN': True,\n",
              " 'b_output_channels': 18,\n",
              " 'include_pool': True,\n",
              " 'pool_type': tensorflow.python.keras.layers.pooling.MaxPooling2D}"
            ]
          },
          "metadata": {
            "tags": []
          },
          "execution_count": 31
        }
      ]
    },
    {
      "cell_type": "code",
      "metadata": {
        "id": "Az64Xz4jHkeR",
        "outputId": "67ae19b0-6479-4fad-91f6-bdf20758b41e",
        "colab": {
          "base_uri": "https://localhost:8080/",
          "height": 201
        }
      },
      "source": [
        "org1_2.build_model()\n",
        "org1_2.fitnessFunction(train_ds, test_ds)"
      ],
      "execution_count": 32,
      "outputs": [
        {
          "output_type": "stream",
          "text": [
            "Epoch 1/5\n",
            "196/196 [==============================] - 1s 7ms/step - loss: 1.4952 - accuracy: 0.4648\n",
            "Epoch 2/5\n",
            "196/196 [==============================] - 1s 7ms/step - loss: 1.1518 - accuracy: 0.5940\n",
            "Epoch 3/5\n",
            "196/196 [==============================] - 1s 7ms/step - loss: 1.0167 - accuracy: 0.6454\n",
            "Epoch 4/5\n",
            "196/196 [==============================] - 1s 7ms/step - loss: 0.9357 - accuracy: 0.6744\n",
            "Epoch 5/5\n",
            "196/196 [==============================] - 1s 7ms/step - loss: 0.8813 - accuracy: 0.6952\n"
          ],
          "name": "stdout"
        }
      ]
    },
    {
      "cell_type": "code",
      "metadata": {
        "id": "FymuqaCyIR3Y",
        "outputId": "707ce309-991c-45c9-b7b2-d2a4a7f48734",
        "colab": {
          "base_uri": "https://localhost:8080/",
          "height": 35
        }
      },
      "source": [
        "print('org1_2: {:0.2f}'.format(org1_2.fitness))"
      ],
      "execution_count": 34,
      "outputs": [
        {
          "output_type": "stream",
          "text": [
            "org1_2: 0.64\n"
          ],
          "name": "stdout"
        }
      ]
    }
  ]
}